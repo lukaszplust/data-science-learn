{
  "nbformat": 4,
  "nbformat_minor": 0,
  "metadata": {
    "colab": {
      "provenance": [],
      "collapsed_sections": [],
      "include_colab_link": true
    },
    "kernelspec": {
      "name": "python3",
      "display_name": "Python 3"
    }
  },
  "cells": [
    {
      "cell_type": "markdown",
      "metadata": {
        "id": "view-in-github",
        "colab_type": "text"
      },
      "source": [
        "<a href=\"https://colab.research.google.com/github/lukaszplust/data-science-learn/blob/main/011_020_exercises.ipynb\" target=\"_parent\"><img src=\"https://colab.research.google.com/assets/colab-badge.svg\" alt=\"Open In Colab\"/></a>"
      ]
    },
    {
      "cell_type": "markdown",
      "metadata": {
        "id": "WLEgCW5F1hho"
      },
      "source": [
        "## Numpy\n",
        "\n",
        "### Spis treści:\n",
        "* [Import biblioteki](#0)\n",
        "* [Ćwiczenie 11](#1)\n",
        "* [Ćwiczenie 12](#2)\n",
        "* [Ćwiczenie 13](#3)\n",
        "* [Ćwiczenie 14](#4)\n",
        "* [Ćwiczenie 15](#5)\n",
        "* [Ćwiczenie 16](#6)\n",
        "* [Ćwiczenie 17](#7)\n",
        "* [Ćwiczenie 18](#8)\n",
        "* [Ćwiczenie 19](#9)\n",
        "* [Ćwiczenie 20](#10)"
      ]
    },
    {
      "cell_type": "markdown",
      "metadata": {
        "id": "zeLOLmTj1kBM"
      },
      "source": [
        "### <a name='0'></a>Import biblioteki"
      ]
    },
    {
      "cell_type": "code",
      "metadata": {
        "id": "HXMB7SMe1Wnz",
        "outputId": "d9838379-589c-4225-9d01-04a01093056e",
        "colab": {
          "base_uri": "https://localhost:8080/",
          "height": 35
        }
      },
      "source": [
        "import numpy as np\n",
        "\n",
        "np.__version__"
      ],
      "execution_count": 1,
      "outputs": [
        {
          "output_type": "execute_result",
          "data": {
            "text/plain": [
              "'1.21.6'"
            ],
            "application/vnd.google.colaboratory.intrinsic+json": {
              "type": "string"
            }
          },
          "metadata": {},
          "execution_count": 1
        }
      ]
    },
    {
      "cell_type": "markdown",
      "metadata": {
        "id": "cyc70pMe1oCg"
      },
      "source": [
        "### <a name='1'></a> Ćwiczenie 11\n",
        "Zbuduj jednowymiarową tablicę numpy liczb dwucyfrowych.\n",
        "\n",
        "__Oczekiwany wynik:__\n",
        "\n",
        "\n",
        "```\n",
        "array([10, 11, 12, 13, 14, 15, 16, 17, 18, 19, 20, 21, 22, 23, 24, 25, 26,\n",
        "       27, 28, 29, 30, 31, 32, 33, 34, 35, 36, 37, 38, 39, 40, 41, 42, 43,\n",
        "       44, 45, 46, 47, 48, 49, 50, 51, 52, 53, 54, 55, 56, 57, 58, 59, 60,\n",
        "       61, 62, 63, 64, 65, 66, 67, 68, 69, 70, 71, 72, 73, 74, 75, 76, 77,\n",
        "       78, 79, 80, 81, 82, 83, 84, 85, 86, 87, 88, 89, 90, 91, 92, 93, 94,\n",
        "       95, 96, 97, 98, 99])\n",
        "```\n",
        "\n",
        "\n",
        "\n",
        "__Wskazówka:__ Użyj funkcji _np.arange()_.\n"
      ]
    },
    {
      "cell_type": "code",
      "metadata": {
        "id": "GlQI9dUUVY5D",
        "outputId": "197106eb-40f8-4ade-cdf9-f1307ddfb4ea",
        "colab": {
          "base_uri": "https://localhost:8080/"
        }
      },
      "source": [
        "np.arange(10,100)"
      ],
      "execution_count": 2,
      "outputs": [
        {
          "output_type": "execute_result",
          "data": {
            "text/plain": [
              "array([10, 11, 12, 13, 14, 15, 16, 17, 18, 19, 20, 21, 22, 23, 24, 25, 26,\n",
              "       27, 28, 29, 30, 31, 32, 33, 34, 35, 36, 37, 38, 39, 40, 41, 42, 43,\n",
              "       44, 45, 46, 47, 48, 49, 50, 51, 52, 53, 54, 55, 56, 57, 58, 59, 60,\n",
              "       61, 62, 63, 64, 65, 66, 67, 68, 69, 70, 71, 72, 73, 74, 75, 76, 77,\n",
              "       78, 79, 80, 81, 82, 83, 84, 85, 86, 87, 88, 89, 90, 91, 92, 93, 94,\n",
              "       95, 96, 97, 98, 99])"
            ]
          },
          "metadata": {},
          "execution_count": 2
        }
      ]
    },
    {
      "cell_type": "markdown",
      "metadata": {
        "id": "J9pY1rtr1sC0"
      },
      "source": [
        "### <a name='2'></a> Ćwiczenie 12\n",
        "Zbuduj tablicę numpy określoną poniżej:\n",
        "\n",
        "\n",
        "```\n",
        "array([[10, 11, 12, 13, 14, 15, 16, 17, 18, 19],\n",
        "       [20, 21, 22, 23, 24, 25, 26, 27, 28, 29],\n",
        "       [30, 31, 32, 33, 34, 35, 36, 37, 38, 39],\n",
        "       [40, 41, 42, 43, 44, 45, 46, 47, 48, 49],\n",
        "       [50, 51, 52, 53, 54, 55, 56, 57, 58, 59],\n",
        "       [60, 61, 62, 63, 64, 65, 66, 67, 68, 69],\n",
        "       [70, 71, 72, 73, 74, 75, 76, 77, 78, 79],\n",
        "       [80, 81, 82, 83, 84, 85, 86, 87, 88, 89],\n",
        "       [90, 91, 92, 93, 94, 95, 96, 97, 98, 99]])\n",
        "```\n",
        "\n",
        "Zwróć uwagę, że kształt tablicy to (9, 10).\n",
        "\n",
        "\n",
        "__Wskazówka:__ Użyj funkcji _np.arange()_ oraz metodę _np.ndarray.reshape()_."
      ]
    },
    {
      "cell_type": "code",
      "metadata": {
        "id": "Ehjc7nZpV_3a",
        "outputId": "d15c3c17-cc55-454f-ed5e-06002066c4cf",
        "colab": {
          "base_uri": "https://localhost:8080/"
        }
      },
      "source": [
        "new = np.arange(10,100)\n",
        "new1 = new.reshape(9,10)\n",
        "new1"
      ],
      "execution_count": 8,
      "outputs": [
        {
          "output_type": "execute_result",
          "data": {
            "text/plain": [
              "array([[10, 11, 12, 13, 14, 15, 16, 17, 18, 19],\n",
              "       [20, 21, 22, 23, 24, 25, 26, 27, 28, 29],\n",
              "       [30, 31, 32, 33, 34, 35, 36, 37, 38, 39],\n",
              "       [40, 41, 42, 43, 44, 45, 46, 47, 48, 49],\n",
              "       [50, 51, 52, 53, 54, 55, 56, 57, 58, 59],\n",
              "       [60, 61, 62, 63, 64, 65, 66, 67, 68, 69],\n",
              "       [70, 71, 72, 73, 74, 75, 76, 77, 78, 79],\n",
              "       [80, 81, 82, 83, 84, 85, 86, 87, 88, 89],\n",
              "       [90, 91, 92, 93, 94, 95, 96, 97, 98, 99]])"
            ]
          },
          "metadata": {},
          "execution_count": 8
        }
      ]
    },
    {
      "cell_type": "markdown",
      "metadata": {
        "id": "Von808MYssim"
      },
      "source": [
        "### Przypomnienie\n",
        "\n",
        "###  Macierz jednostkowa:\n",
        "\n",
        "Macierz jednostkowa - macierz kwadratowa, której współczynniki podane są wzorem:\n",
        "$${\\displaystyle a_{ij}={\\begin{cases}1\\quad {\\text{dla}}\\quad i=j\\\\[2pt]0\\quad {\\text{dla}}\\quad i\\neq j\\end{cases}}}$$\n",
        "\n",
        "#### Przykłady\n",
        "${\\displaystyle I_{1}={\\begin{bmatrix}1\\end{bmatrix}},\\;I_{2}={\\begin{bmatrix}1&0\\\\0&1\\end{bmatrix}},\\;I_{3}={\\begin{bmatrix}1&0&0\\\\0&1&0\\\\0&0&1\\end{bmatrix}}}$"
      ]
    },
    {
      "cell_type": "markdown",
      "metadata": {
        "id": "XQLYT2m11wVG"
      },
      "source": [
        "### <a name='3'></a> Ćwiczenie 13\n",
        "Zbuduj tablicę dwuwymiarową (macierz jednostkową) o kształcie _6x6_ mającą na przekątnej jedynki oraz poza same zera. Użyj typu danych _int_.\n",
        "__Oczekiwany wynik:__\n",
        "\n",
        "\n",
        "```\n",
        "array([[1, 0, 0, 0, 0, 0],\n",
        "       [0, 1, 0, 0, 0, 0],\n",
        "       [0, 0, 1, 0, 0, 0],\n",
        "       [0, 0, 0, 1, 0, 0],\n",
        "       [0, 0, 0, 0, 1, 0],\n",
        "       [0, 0, 0, 0, 0, 1]])\n",
        "```\n",
        "\n",
        "\n",
        "\n",
        "__Wskazówka:__ Użyj funkcji _np.eye()_."
      ]
    },
    {
      "cell_type": "code",
      "metadata": {
        "id": "jhXfKuTdXP2k",
        "outputId": "114f1c9d-ed2c-4251-f775-daa0d2efcbf4",
        "colab": {
          "base_uri": "https://localhost:8080/"
        }
      },
      "source": [
        "np.eye(6,dtype=int)"
      ],
      "execution_count": 9,
      "outputs": [
        {
          "output_type": "execute_result",
          "data": {
            "text/plain": [
              "array([[1, 0, 0, 0, 0, 0],\n",
              "       [0, 1, 0, 0, 0, 0],\n",
              "       [0, 0, 1, 0, 0, 0],\n",
              "       [0, 0, 0, 1, 0, 0],\n",
              "       [0, 0, 0, 0, 1, 0],\n",
              "       [0, 0, 0, 0, 0, 1]])"
            ]
          },
          "metadata": {},
          "execution_count": 9
        }
      ]
    },
    {
      "cell_type": "markdown",
      "metadata": {
        "id": "4xTKSUzg10MK"
      },
      "source": [
        "### <a name='4'></a> Ćwiczenie 14\n",
        "Ustaw ziarno losowe na wartość 10. Następnie zbuduj jednowymiarową tablicę składającą się z 30 pseudolosowo wygenerowanych wartości z rozkładu jednostajnego nad przedziałem $[0, 1)$.\n",
        "\n",
        "__Oczekiwany wynik:__\n",
        "\n",
        "\n",
        "```\n",
        "array([0.77132064, 0.02075195, 0.63364823, 0.74880388, 0.49850701,\n",
        "       0.22479665, 0.19806286, 0.76053071, 0.16911084, 0.08833981,\n",
        "       0.68535982, 0.95339335, 0.00394827, 0.51219226, 0.81262096,\n",
        "       0.61252607, 0.72175532, 0.29187607, 0.91777412, 0.71457578,\n",
        "       0.54254437, 0.14217005, 0.37334076, 0.67413362, 0.44183317,\n",
        "       0.43401399, 0.61776698, 0.51313824, 0.65039718, 0.60103895])\n",
        "```\n",
        "\n",
        "\n",
        "\n",
        "__Wskazówka:__ Użyj funkcji _np.random.rand()_."
      ]
    },
    {
      "cell_type": "code",
      "metadata": {
        "id": "kssg7-vEYX6T",
        "outputId": "5e92d154-0726-4b56-d649-d551051e2600",
        "colab": {
          "base_uri": "https://localhost:8080/"
        }
      },
      "source": [
        "np.random.seed(10)\n",
        "np.random.rand(30)"
      ],
      "execution_count": 10,
      "outputs": [
        {
          "output_type": "execute_result",
          "data": {
            "text/plain": [
              "array([0.77132064, 0.02075195, 0.63364823, 0.74880388, 0.49850701,\n",
              "       0.22479665, 0.19806286, 0.76053071, 0.16911084, 0.08833981,\n",
              "       0.68535982, 0.95339335, 0.00394827, 0.51219226, 0.81262096,\n",
              "       0.61252607, 0.72175532, 0.29187607, 0.91777412, 0.71457578,\n",
              "       0.54254437, 0.14217005, 0.37334076, 0.67413362, 0.44183317,\n",
              "       0.43401399, 0.61776698, 0.51313824, 0.65039718, 0.60103895])"
            ]
          },
          "metadata": {},
          "execution_count": 10
        }
      ]
    },
    {
      "cell_type": "markdown",
      "metadata": {
        "id": "o3HKIKlP15Ro"
      },
      "source": [
        "### <a name='5'></a> Ćwiczenie 15\n",
        "Ustaw ziarno losowe na wartość 20. Następnie zbuduj dwuwymiarową tablicę o kształcie _(10, 4)_ wartości pseudolosowo wygenerowanych ze standardowego rozkładu normalego $N(0, 1)$.\n",
        "\n",
        "__Oczekiwany wynik:__\n",
        "\n",
        "\n",
        "```\n",
        "array([[ 0.88389311,  0.19586502,  0.35753652, -2.34326191],\n",
        "       [-1.08483259,  0.55969629,  0.93946935, -0.97848104],\n",
        "       [ 0.50309684,  0.40641447,  0.32346101, -0.49341088],\n",
        "       [-0.79201679, -0.84236793, -1.27950266,  0.24571517],\n",
        "       [-0.0441948 ,  1.56763255,  1.05110868,  0.40636843],\n",
        "       [-0.1686461 , -3.18970279,  1.12013226,  1.33277821],\n",
        "       [-0.24333877, -0.13003071, -0.10901737,  1.55618644],\n",
        "       [ 0.12877835, -2.06694872, -0.88549315, -1.10457948],\n",
        "       [ 0.93286635,  2.059838  , -0.93493796, -1.61299022],\n",
        "       [ 0.52706972, -1.55110074,  0.32961334, -1.13652654]])\n",
        "```\n",
        "\n",
        "\n",
        "\n",
        "__Wskazówka:__ Użyj funkcji _np.random.randn()_."
      ]
    },
    {
      "cell_type": "code",
      "metadata": {
        "id": "qrIqjdTgZoXJ",
        "outputId": "42fa684c-e027-47f1-df3b-55d5911d1829",
        "colab": {
          "base_uri": "https://localhost:8080/"
        }
      },
      "source": [
        "np.random.seed(20)\n",
        "np.random.randn(10,4)"
      ],
      "execution_count": 12,
      "outputs": [
        {
          "output_type": "execute_result",
          "data": {
            "text/plain": [
              "array([[ 0.88389311,  0.19586502,  0.35753652, -2.34326191],\n",
              "       [-1.08483259,  0.55969629,  0.93946935, -0.97848104],\n",
              "       [ 0.50309684,  0.40641447,  0.32346101, -0.49341088],\n",
              "       [-0.79201679, -0.84236793, -1.27950266,  0.24571517],\n",
              "       [-0.0441948 ,  1.56763255,  1.05110868,  0.40636843],\n",
              "       [-0.1686461 , -3.18970279,  1.12013226,  1.33277821],\n",
              "       [-0.24333877, -0.13003071, -0.10901737,  1.55618644],\n",
              "       [ 0.12877835, -2.06694872, -0.88549315, -1.10457948],\n",
              "       [ 0.93286635,  2.059838  , -0.93493796, -1.61299022],\n",
              "       [ 0.52706972, -1.55110074,  0.32961334, -1.13652654]])"
            ]
          },
          "metadata": {},
          "execution_count": 12
        }
      ]
    },
    {
      "cell_type": "markdown",
      "metadata": {
        "id": "PunXd_Ey16so"
      },
      "source": [
        "### <a name='6'></a> Ćwiczenie 16\n",
        "Ustaw ziarno losowe na wartość 30. Następnie zbuduj dwuwymiarową tablicę o kształcie _(10, 4)_ wartości pseudolosowo wygenerowanych z rozkładu normalego $N(100, 5)$.  \n",
        "$\\mu=100$   \n",
        "$\\sigma^{2}=5$\n",
        "\n",
        "__Oczekiwany wynik:__\n",
        "\n",
        "\n",
        "```\n",
        "array([[ 97.17349231, 103.41650023,  97.82942436, 101.05220329],\n",
        "       [ 99.7748353 , 100.67930221,  96.14063068, 103.544381  ],\n",
        "       [100.30029631,  97.52499594, 103.52901961, 100.24037271],\n",
        "       [ 98.29153712,  98.2666258 , 103.09437633, 101.70027274],\n",
        "       [ 99.36127721, 101.20382627,  95.34026547, 102.09694365],\n",
        "       [ 99.98708001,  98.95468525,  99.05410904, 102.38025432],\n",
        "       [ 93.50787269, 103.61547679, 103.18753701,  98.51356237],\n",
        "       [102.20256689,  96.19764407,  97.54000366,  97.05813038],\n",
        "       [101.81233513,  97.66380453,  98.45883627,  98.09317768],\n",
        "       [102.48979932,  95.70413391,  98.43161651, 101.89861815]])\n",
        "```\n",
        "\n",
        "\n",
        "\n",
        "__Wskazówka:__ Użyj funkcji _np.random.randn()_."
      ]
    },
    {
      "cell_type": "code",
      "metadata": {
        "id": "Z53wec08avi9",
        "outputId": "1fe3edc0-8ef5-48ee-e92c-f41ff9f83a46",
        "colab": {
          "base_uri": "https://localhost:8080/"
        }
      },
      "source": [
        "np.random.seed(30)\n",
        "\n",
        "sigma = np.sqrt(5)\n",
        "\n",
        "mu = 100\n",
        "\n",
        "sigma * np.random.randn(10,4) + mu\n"
      ],
      "execution_count": 14,
      "outputs": [
        {
          "output_type": "execute_result",
          "data": {
            "text/plain": [
              "array([[ 97.17349231, 103.41650023,  97.82942436, 101.05220329],\n",
              "       [ 99.7748353 , 100.67930221,  96.14063068, 103.544381  ],\n",
              "       [100.30029631,  97.52499594, 103.52901961, 100.24037271],\n",
              "       [ 98.29153712,  98.2666258 , 103.09437633, 101.70027274],\n",
              "       [ 99.36127721, 101.20382627,  95.34026547, 102.09694365],\n",
              "       [ 99.98708001,  98.95468525,  99.05410904, 102.38025432],\n",
              "       [ 93.50787269, 103.61547679, 103.18753701,  98.51356237],\n",
              "       [102.20256689,  96.19764407,  97.54000366,  97.05813038],\n",
              "       [101.81233513,  97.66380453,  98.45883627,  98.09317768],\n",
              "       [102.48979932,  95.70413391,  98.43161651, 101.89861815]])"
            ]
          },
          "metadata": {},
          "execution_count": 14
        }
      ]
    },
    {
      "cell_type": "markdown",
      "metadata": {
        "id": "hOhqDRz618Tx"
      },
      "source": [
        "### <a name='7'></a> Ćwiczenie 17\n",
        "Iterując po tablicy numpy $A$ element po elemencie (element-wise) wydrukuj każdy element tablicy do konsoli.\n",
        "\n",
        "\n",
        "```\n",
        "A = np.array([[1, 4, 3],\n",
        "              [5, 2, 6]])\n",
        "```\n",
        "\n",
        "\n",
        "\n",
        "__Wskazówka:__ Użyj funkcji _np.nditer()_."
      ]
    },
    {
      "cell_type": "code",
      "metadata": {
        "id": "1GbS3dat1gIl",
        "outputId": "4b9a4ed4-ff58-4646-a1b3-1c8c621be78d",
        "colab": {
          "base_uri": "https://localhost:8080/"
        }
      },
      "source": [
        "A = np.array([[1, 4, 3],\n",
        "              [5, 2, 6]])\n",
        "\n",
        "for i in np.nditer(A):\n",
        "  print(i)"
      ],
      "execution_count": 15,
      "outputs": [
        {
          "output_type": "stream",
          "name": "stdout",
          "text": [
            "1\n",
            "4\n",
            "3\n",
            "5\n",
            "2\n",
            "6\n"
          ]
        }
      ]
    },
    {
      "cell_type": "markdown",
      "metadata": {
        "id": "TXUd_4631-gw"
      },
      "source": [
        "### <a name='8'></a> Ćwiczenie 18\n",
        "Utwórz jednowymiarową tablicę numpy (wektor) składający się z 11 równo rozmieszczonych punktów z przedziału $[0, 1].$\n",
        "\n",
        "__Oczekiwany wynik:__\n",
        "\n",
        "\n",
        "```\n",
        "array([0. , 0.1, 0.2, 0.3, 0.4, 0.5, 0.6, 0.7, 0.8, 0.9, 1. ])\n",
        "```\n",
        "__Wskazówka:__ Użyj funkcji _np.linspace()_.\n"
      ]
    },
    {
      "cell_type": "code",
      "metadata": {
        "id": "ZuaUXkg73Amn",
        "outputId": "380413ed-9269-4c51-cc92-d462ea2f813c",
        "colab": {
          "base_uri": "https://localhost:8080/"
        }
      },
      "source": [
        "np.linspace(0,1,11)"
      ],
      "execution_count": 17,
      "outputs": [
        {
          "output_type": "execute_result",
          "data": {
            "text/plain": [
              "array([0. , 0.1, 0.2, 0.3, 0.4, 0.5, 0.6, 0.7, 0.8, 0.9, 1. ])"
            ]
          },
          "metadata": {},
          "execution_count": 17
        }
      ]
    },
    {
      "cell_type": "markdown",
      "metadata": {
        "id": "tgI6xEn-2AQo"
      },
      "source": [
        "### <a name='9'></a> Ćwiczenie 19\n",
        "Ustaw ziarno losowe na wartość 42. Wygeneruj tablicę jednowymiarową (wektor) zawierający możliwy wynik losowania w grę Duży Lotek. \n",
        "\n",
        "__Oczekiwany wynik:__\n",
        "\n",
        "\n",
        "```\n",
        "array([39, 29, 15, 43,  8, 21])\n",
        "```\n",
        "\n",
        "\n",
        "\n",
        "__Wskazówka:__ Wynikiem losowania jest 6-elementowy wektor wartości od 1 do 49 włącznie."
      ]
    },
    {
      "cell_type": "code",
      "metadata": {
        "id": "BAnycpr13-Nz",
        "outputId": "3f35a07e-3a5d-4e3f-a4e7-941516850f95",
        "colab": {
          "base_uri": "https://localhost:8080/"
        }
      },
      "source": [
        "np.random.seed(42)\n",
        "np.random.randint(1,49,6)"
      ],
      "execution_count": 18,
      "outputs": [
        {
          "output_type": "execute_result",
          "data": {
            "text/plain": [
              "array([39, 29, 15, 43,  8, 21])"
            ]
          },
          "metadata": {},
          "execution_count": 18
        }
      ]
    },
    {
      "cell_type": "markdown",
      "metadata": {
        "id": "wxhpf-uq2B1I"
      },
      "source": [
        "### <a name='10'></a> Ćwiczenie 20\n",
        "Zbuduj dwuwymiarową tablicę numpy rozmiaru _6x6_ podaną poniżej:\n",
        "\n",
        "\n",
        "```\n",
        "array([[0, 0, 0, 0, 0, 0],\n",
        "       [0, 1, 0, 0, 0, 0],\n",
        "       [0, 0, 2, 0, 0, 0],\n",
        "       [0, 0, 0, 3, 0, 0],\n",
        "       [0, 0, 0, 0, 4, 0],\n",
        "       [0, 0, 0, 0, 0, 5]])\n",
        "```\n",
        "__Wskazówka:__ Użyj funkcji _np.diag()_.\n"
      ]
    },
    {
      "cell_type": "code",
      "metadata": {
        "id": "UrVAQwBJ6HpX",
        "outputId": "b180d2a8-683e-4200-e6b6-a182cf74857b",
        "colab": {
          "base_uri": "https://localhost:8080/"
        }
      },
      "source": [
        "np.diag(np.arange(6))"
      ],
      "execution_count": 21,
      "outputs": [
        {
          "output_type": "execute_result",
          "data": {
            "text/plain": [
              "array([[0, 0, 0, 0, 0, 0],\n",
              "       [0, 1, 0, 0, 0, 0],\n",
              "       [0, 0, 2, 0, 0, 0],\n",
              "       [0, 0, 0, 3, 0, 0],\n",
              "       [0, 0, 0, 0, 4, 0],\n",
              "       [0, 0, 0, 0, 0, 5]])"
            ]
          },
          "metadata": {},
          "execution_count": 21
        }
      ]
    }
  ]
}