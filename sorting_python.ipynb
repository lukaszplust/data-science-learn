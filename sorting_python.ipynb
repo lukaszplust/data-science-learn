{
  "nbformat": 4,
  "nbformat_minor": 0,
  "metadata": {
    "colab": {
      "provenance": [],
      "authorship_tag": "ABX9TyOn1b52awVBukWAmGUsAqPA",
      "include_colab_link": true
    },
    "kernelspec": {
      "name": "python3",
      "display_name": "Python 3"
    },
    "language_info": {
      "name": "python"
    }
  },
  "cells": [
    {
      "cell_type": "markdown",
      "metadata": {
        "id": "view-in-github",
        "colab_type": "text"
      },
      "source": [
        "<a href=\"https://colab.research.google.com/github/lukaszplust/data-science-learn/blob/main/sorting_python.ipynb\" target=\"_parent\"><img src=\"https://colab.research.google.com/assets/colab-badge.svg\" alt=\"Open In Colab\"/></a>"
      ]
    },
    {
      "cell_type": "code",
      "execution_count": null,
      "metadata": {
        "colab": {
          "base_uri": "https://localhost:8080/"
        },
        "id": "11t1CzQQ__un",
        "outputId": "d9208fe6-9156-47b4-9a5d-e29c12193071"
      },
      "outputs": [
        {
          "output_type": "stream",
          "name": "stdout",
          "text": [
            "[0, 1, 2, 3, 4, 5, 6, 6, 6, 7, 7, 7, 8, 8, 8, 9, 9, 9]\n"
          ]
        }
      ],
      "source": [
        "def quick_sort(seq):\n",
        "\n",
        "    length = len(seq)\n",
        "\n",
        "    if length <= 1:\n",
        "        return seq\n",
        "    else:\n",
        "        pivot = seq.pop()#ustawiam pivot na ostatni element\n",
        "\n",
        "    greater = []#tablica na przechowywanie wiekszych\n",
        "    lower = []#tablica na przechowywanie mniejszych\n",
        "\n",
        "    for item in seq:\n",
        "\n",
        "        if item > pivot:#dla wiekszych niz pivot wrzucam do greater\n",
        "            greater.append(item)\n",
        "\n",
        "        else:#dla mniejszych do lower\n",
        "            lower.append(item)\n",
        "    #zwracam rekurencyjnie mniejsze + pivot + wieksze\n",
        "    return quick_sort(lower) + [pivot] + quick_sort(greater)\n",
        "\n",
        "print(quick_sort([1,3,9,4,2,6,7,8,9,8,7,6,5,6,7,8,9,0]))"
      ]
    },
    {
      "cell_type": "code",
      "source": [
        "def binary_search(sequence, item):\n",
        "    begin_index = 0#poczatkowy indeks to 0\n",
        "    #len = 7\n",
        "    #pierwsza petla poczatek to 1, koniec to 7\n",
        "    #druga poczatek to ,koniec to\n",
        "    end_index = len(sequence) - 1#ostatni indeks to ilosc - 1, poniewaz liczymy od 0\n",
        "\n",
        "    while begin_index <= end_index:\n",
        "\n",
        "      #pierwszy obieg 0 + (6 - 0) //2 = 3 to midpoint => seq[3] -> 4 zostaje midpoint_value\n",
        "      #drugi obieg 5 + (6-5) // 2 = 5 to midpoint => seq[5] - > 6 zostaje midpoint_value\n",
        "\n",
        "        midpoint = begin_index + (end_index - begin_index) // 2#ustalam srodek\n",
        "\n",
        "        #pierwszy obieg midpoint to 3!!!\n",
        "        #drugi obieg midpoint to 5!!!\n",
        "\n",
        "        #pierwszy obieg midpoint_value to 4 !!!\n",
        "        #pierwszy obieg midpoint_value to 6 !!!\n",
        "\n",
        "        midpoint_value = sequence[midpoint]#ustalam srodek zamieniajac na wartosc do porownania\n",
        "\n",
        "        if midpoint_value == item:#jesli srodek jest rowny temu czego szukam zwracam srodek\n",
        "            return midpoint# w drugim obieku zwracam 5 jako midpoint z midpoint_value = 6\n",
        "\n",
        "        #w przeciwnym wypadku jesli moj szukany czyli 6 jest mniejszy od srodka czyli dla 1 obiegu 4\n",
        "        elif item < midpoint_value:\n",
        "            end_index = midpoint - 1\n",
        "\n",
        "        #jesli item jest wiekszy to ide wyzej i ustalam indeks o jeden wiekszy\n",
        "        else:\n",
        "            begin_index = midpoint + 1\n",
        "\n",
        "    return None\n",
        "\n",
        "#dane muszą być posortowane\n",
        "org_sequence = [1,2,3,4,5,6,7]\n",
        "org_item = 6\n",
        "\n",
        "\n",
        "print(binary_search(org_sequence, org_item))"
      ],
      "metadata": {
        "colab": {
          "base_uri": "https://localhost:8080/"
        },
        "id": "V05R8M6AAAtd",
        "outputId": "22d062ce-a47b-429b-962b-94e757af26c6"
      },
      "execution_count": null,
      "outputs": [
        {
          "output_type": "stream",
          "name": "stdout",
          "text": [
            "5\n"
          ]
        }
      ]
    },
    {
      "cell_type": "code",
      "source": [
        "def bubble_sort(item):\n",
        "    index = len(item) - 1#od konca?\n",
        "    flag = False#false = unsorted\n",
        "\n",
        "    while not flag:#while True\n",
        "        flag = True  \n",
        "\n",
        "        for i in range(0, index): #przez cala tablice\n",
        "            if item[i] > item[i+1]:#jezeli wczesniejszy element wiekszy od drugiego to znaczy, ze nieposortowane\n",
        "                flag = False #ustawiam flage na false gdy nieposortowane\n",
        "                item[i], item[i+1] = item[i+1], item[i] #zmieniam wartosci\n",
        "    return item #zwracaj jesli posortowane \n",
        "\n",
        "\n",
        "print(bubble_sort([1,3,5,2,6,8,7]))"
      ],
      "metadata": {
        "id": "0BN7wnBAH_Mb",
        "outputId": "9d40bdf1-8ec2-43a1-ba02-931a2d7fcf95",
        "colab": {
          "base_uri": "https://localhost:8080/"
        }
      },
      "execution_count": 8,
      "outputs": [
        {
          "output_type": "stream",
          "name": "stdout",
          "text": [
            "[1, 2, 3, 5, 6, 7, 8]\n"
          ]
        }
      ]
    },
    {
      "cell_type": "code",
      "source": [
        "#import pdb\n",
        "#szukamy minimum i ustawiamy je po lewo\n",
        "def selection_sort(item):\n",
        "    #pdb.set_trace()\n",
        "    index = range(0, len(item)-1)#przechodze przez kazdy element index= 0,5\n",
        "\n",
        "    for i in index:\n",
        "        #przy pierwszym przejsciu min = 3 -> item[0]\n",
        "        min = i#wartosc minimalna Pierszy obieg min = 0 !\n",
        "\n",
        "\n",
        "        for j in range(i+1, len(item)):#porownuje ze wszystkimi pozostalymi\n",
        "            if item[j] < item[min]:#jesli znajde jakis mniejszy ustawiam go na min\n",
        "            #pierwszy obieg ogolny !\n",
        "\n",
        "            #pierwszy obieg item[1] < item[0] => 5 < 3 -> False\n",
        "            #drugi obieg item[2] < item[0] => 2 < 3 -> True --> ustawiam 2 jako min\n",
        "            #trzeci obieg item[3] < item[2] => 6 < 2 -> False\n",
        "            #czwarty obieg item[4] < item[2] => 9 < 2 -> False\n",
        "            #piaty obieg item[5] < item[2] => 4 < 2 - False ---> min = 2\n",
        "\n",
        "            #drugi obieg ogolny ! []\n",
        "            #pierwszy obieg item[2] < item[1] => 3 < 5 -> True --> ustawiam item[2] = 3 jako min=2, j=3\n",
        "            #drugi obieg item[3] < item[2] => 6 < 3 -> False\n",
        "            #trzeci obieg item[4] < item[2] => 9 < 3 -> False\n",
        "            #czwarty obieg item[5] < item[2] => 4 < 3 - False\n",
        "\n",
        "                min = j\n",
        "                #np.2\n",
        "\n",
        "        #[3,5,2,6,9,4]\n",
        "        #przy pierwszym obiegu sprawdzam czy 2 != 0\n",
        "        #jest rozna wiec item[2], item[0] = item[0], item[2] => 2,5,3,6,9,4\n",
        "\n",
        "        #[2,5,3,6,9,4]\n",
        "        #drugi obieg sprawdzam czy min = 2 != i=1\n",
        "        #jest rozna wiec item[2], item[1] = item[1], item[2] => [2,3,5,6,9,4]\n",
        "\n",
        "        if min != i:#jesli min z drugiej petli nie jest rowne temu pierwszemu wybranemu\n",
        "            item[min], item[i] = item[i], item[min]#czytam od prawej do lewej\n",
        "\n",
        "    return item\n",
        "\n",
        "print(selection_sort([3,5,2,6,9,4]))"
      ],
      "metadata": {
        "id": "2fXp63U3id-N",
        "outputId": "f121d4c0-0aa3-4c9e-9c3a-c9eba85d3713",
        "colab": {
          "base_uri": "https://localhost:8080/"
        }
      },
      "execution_count": 12,
      "outputs": [
        {
          "output_type": "stream",
          "name": "stdout",
          "text": [
            "[2, 3, 4, 5, 6, 9]\n"
          ]
        }
      ]
    },
    {
      "cell_type": "code",
      "source": [],
      "metadata": {
        "id": "8vqPkqGqlfbU"
      },
      "execution_count": null,
      "outputs": []
    }
  ]
}