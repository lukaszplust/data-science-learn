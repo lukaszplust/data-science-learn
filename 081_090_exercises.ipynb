{
  "nbformat": 4,
  "nbformat_minor": 0,
  "metadata": {
    "colab": {
      "provenance": [],
      "collapsed_sections": [],
      "include_colab_link": true
    },
    "kernelspec": {
      "name": "python3",
      "display_name": "Python 3"
    }
  },
  "cells": [
    {
      "cell_type": "markdown",
      "metadata": {
        "id": "view-in-github",
        "colab_type": "text"
      },
      "source": [
        "<a href=\"https://colab.research.google.com/github/lukaszplust/data-science-learn/blob/main/081_090_exercises.ipynb\" target=\"_parent\"><img src=\"https://colab.research.google.com/assets/colab-badge.svg\" alt=\"Open In Colab\"/></a>"
      ]
    },
    {
      "cell_type": "markdown",
      "metadata": {
        "id": "WLEgCW5F1hho"
      },
      "source": [
        "## Numpy\n",
        "\n",
        "### Spis treści:\n",
        "* [Import biblioteki](#0)\n",
        "* [Ćwiczenie 81](#1)\n",
        "* [Ćwiczenie 82](#2)\n",
        "* [Ćwiczenie 83](#3)\n",
        "* [Ćwiczenie 84](#4)\n",
        "* [Ćwiczenie 85](#5)\n",
        "* [Ćwiczenie 86](#6)\n",
        "* [Ćwiczenie 87](#7)\n",
        "* [Ćwiczenie 88](#8)\n",
        "* [Ćwiczenie 89](#9)\n",
        "* [Ćwiczenie 90](#10)"
      ]
    },
    {
      "cell_type": "markdown",
      "metadata": {
        "id": "zeLOLmTj1kBM"
      },
      "source": [
        "### <a name='0'></a>Import biblioteki"
      ]
    },
    {
      "cell_type": "code",
      "metadata": {
        "id": "HXMB7SMe1Wnz",
        "colab": {
          "base_uri": "https://localhost:8080/",
          "height": 35
        },
        "outputId": "a260d7e5-3b99-4efa-fd0d-7949745c5f29"
      },
      "source": [
        "import numpy as np\n",
        "\n",
        "np.set_printoptions(linewidth=100)\n",
        "np.__version__"
      ],
      "execution_count": 1,
      "outputs": [
        {
          "output_type": "execute_result",
          "data": {
            "text/plain": [
              "'1.21.6'"
            ],
            "application/vnd.google.colaboratory.intrinsic+json": {
              "type": "string"
            }
          },
          "metadata": {},
          "execution_count": 1
        }
      ]
    },
    {
      "cell_type": "markdown",
      "metadata": {
        "id": "cyc70pMe1oCg"
      },
      "source": [
        "### <a name='1'></a> Ćwiczenie 81\n",
        "Wygeneruj wyszstkie daty poniedziałków ze stycznia i lutego 2020 roku jako tablicę numpy.\n",
        "\n",
        "__Oczekiwany wynik:__\n",
        "\n",
        "\n",
        "```\n",
        "array(['2020-01-06', '2020-01-13', '2020-01-20', '2020-01-27', '2020-02-03', '2020-02-10',\n",
        "       '2020-02-17', '2020-02-24'], dtype='datetime64[D]')\n",
        "```\n",
        "\n"
      ]
    },
    {
      "cell_type": "code",
      "metadata": {
        "id": "wM7QarQ-PABK",
        "colab": {
          "base_uri": "https://localhost:8080/"
        },
        "outputId": "894af5bf-dfe0-40f5-c6e8-7d5cd3d68c03"
      },
      "source": [
        "np.arange(start='2020-01-06',stop='2020-02-25',dtype='datetime64[D]')[::7]"
      ],
      "execution_count": 5,
      "outputs": [
        {
          "output_type": "execute_result",
          "data": {
            "text/plain": [
              "array(['2020-01-06', '2020-01-13', '2020-01-20', '2020-01-27', '2020-02-03', '2020-02-10',\n",
              "       '2020-02-17', '2020-02-24'], dtype='datetime64[D]')"
            ]
          },
          "metadata": {},
          "execution_count": 5
        }
      ]
    },
    {
      "cell_type": "markdown",
      "metadata": {
        "id": "J9pY1rtr1sC0"
      },
      "source": [
        "### <a name='2'></a> Ćwiczenie 82\n",
        "Podane są dwie tablice $A$ i $B$:\n",
        "\n",
        "```\n",
        "A = np.array(['001', '002', '003'], dtype=np.str)\n",
        "B = np.array(['XC', 'YC', 'ZC'], dtype=np.str)\n",
        "```\n",
        "Sklej je w jedną tak jak pokazano poniżej:\n",
        "\n",
        "\n",
        "```\n",
        "array(['001XC', '002YC', '003ZC'], dtype='<U5')\n",
        "```\n",
        "\n",
        "__Wskazówka:__ Użyj funkcję _np.char.add()_.\n",
        "\n"
      ]
    },
    {
      "cell_type": "code",
      "metadata": {
        "id": "Bf0nC1iaYIOI",
        "colab": {
          "base_uri": "https://localhost:8080/"
        },
        "outputId": "3e2b9661-9331-471d-c421-6f728ef6c48f"
      },
      "source": [
        "A = np.array(['001', '002', '003'], dtype=np.str)\n",
        "B = np.array(['XC', 'YC', 'ZC'], dtype=np.str)\n",
        "\n",
        "np.char.add(A,B)"
      ],
      "execution_count": 6,
      "outputs": [
        {
          "output_type": "stream",
          "name": "stderr",
          "text": [
            "/usr/local/lib/python3.7/dist-packages/ipykernel_launcher.py:1: DeprecationWarning: `np.str` is a deprecated alias for the builtin `str`. To silence this warning, use `str` by itself. Doing this will not modify any behavior and is safe. If you specifically wanted the numpy scalar type, use `np.str_` here.\n",
            "Deprecated in NumPy 1.20; for more details and guidance: https://numpy.org/devdocs/release/1.20.0-notes.html#deprecations\n",
            "  \"\"\"Entry point for launching an IPython kernel.\n",
            "/usr/local/lib/python3.7/dist-packages/ipykernel_launcher.py:2: DeprecationWarning: `np.str` is a deprecated alias for the builtin `str`. To silence this warning, use `str` by itself. Doing this will not modify any behavior and is safe. If you specifically wanted the numpy scalar type, use `np.str_` here.\n",
            "Deprecated in NumPy 1.20; for more details and guidance: https://numpy.org/devdocs/release/1.20.0-notes.html#deprecations\n",
            "  \n"
          ]
        },
        {
          "output_type": "execute_result",
          "data": {
            "text/plain": [
              "array(['001XC', '002YC', '003ZC'], dtype='<U5')"
            ]
          },
          "metadata": {},
          "execution_count": 6
        }
      ]
    },
    {
      "cell_type": "markdown",
      "metadata": {
        "id": "XQLYT2m11wVG"
      },
      "source": [
        "### <a name='3'></a> Ćwiczenie 83\n",
        "Podana jest poniższa tablica:\n",
        "\n",
        "\n",
        "```\n",
        "A = np.array(['1', '2', '3'], dtype=np.str)\n",
        "```\n",
        "Dodaj '000' (3 zera) na początku każdego elementu tablicy.\n",
        "\n",
        "__Wskazówka:__ Użyj funkcję _np.char.add()_ lub _np.char.rjust()_ lub _np.char.zfill()_.\n",
        "\n"
      ]
    },
    {
      "cell_type": "code",
      "metadata": {
        "id": "FmHs7GduY_vF",
        "colab": {
          "base_uri": "https://localhost:8080/"
        },
        "outputId": "543bdfa1-7e84-4da2-9e10-0fcde34d6c7b"
      },
      "source": [
        "A = np.array(['1', '2', '3'], dtype=np.str)\n",
        "print(np.char.add('000',A))\n",
        "print(np.char.rjust(A,4,fillchar='0'))\n",
        "print(np.char.zfill(A,4))"
      ],
      "execution_count": 15,
      "outputs": [
        {
          "output_type": "stream",
          "name": "stdout",
          "text": [
            "['0001' '0002' '0003']\n",
            "['0001' '0002' '0003']\n",
            "['0001' '0002' '0003']\n"
          ]
        },
        {
          "output_type": "stream",
          "name": "stderr",
          "text": [
            "/usr/local/lib/python3.7/dist-packages/ipykernel_launcher.py:1: DeprecationWarning: `np.str` is a deprecated alias for the builtin `str`. To silence this warning, use `str` by itself. Doing this will not modify any behavior and is safe. If you specifically wanted the numpy scalar type, use `np.str_` here.\n",
            "Deprecated in NumPy 1.20; for more details and guidance: https://numpy.org/devdocs/release/1.20.0-notes.html#deprecations\n",
            "  \"\"\"Entry point for launching an IPython kernel.\n"
          ]
        }
      ]
    },
    {
      "cell_type": "markdown",
      "metadata": {
        "id": "4xTKSUzg10MK"
      },
      "source": [
        "### <a name='4'></a> Ćwiczenie 84\n",
        "Podana jest poniższa tablica:\n",
        "\n",
        "```\n",
        "A = np.array([['PLW CDR 11B TEN', 'AMC LPP'],\n",
        "              ['CDR PKO KGH', 'CCC QMK']], dtype=np.str)\n",
        "```\n",
        "Podziel każdy element powyższej tablicy względem spacji otrzymując listę wartości na każdym miejscu.\n",
        "\n",
        "__Oczekiwany wynik:__\n",
        "\n",
        "\n",
        "```\n",
        "array([[list(['PLW', 'CDR', '11B', 'TEN']), list(['AMC', 'LPP'])],\n",
        "       [list(['CDR', 'PKO', 'KGH']), list(['CCC', 'QMK'])]], dtype=object)\n",
        "```\n",
        "__Wskazówka:__ Użyj funkcji _np.char.split()_.\n",
        "\n",
        "\n"
      ]
    },
    {
      "cell_type": "code",
      "metadata": {
        "id": "x6iSU8O4b5N9",
        "colab": {
          "base_uri": "https://localhost:8080/"
        },
        "outputId": "1eb8c5ca-ecaf-4671-c73e-934c6b8f37fd"
      },
      "source": [
        "A = np.array([['PLW CDR 11B TEN', 'AMC LPP'],\n",
        "              ['CDR PKO KGH', 'CCC QMK']], dtype=np.str)\n",
        "np.char.split(A,sep=' ')"
      ],
      "execution_count": 17,
      "outputs": [
        {
          "output_type": "stream",
          "name": "stderr",
          "text": [
            "/usr/local/lib/python3.7/dist-packages/ipykernel_launcher.py:2: DeprecationWarning: `np.str` is a deprecated alias for the builtin `str`. To silence this warning, use `str` by itself. Doing this will not modify any behavior and is safe. If you specifically wanted the numpy scalar type, use `np.str_` here.\n",
            "Deprecated in NumPy 1.20; for more details and guidance: https://numpy.org/devdocs/release/1.20.0-notes.html#deprecations\n",
            "  \n"
          ]
        },
        {
          "output_type": "execute_result",
          "data": {
            "text/plain": [
              "array([[list(['PLW', 'CDR', '11B', 'TEN']), list(['AMC', 'LPP'])],\n",
              "       [list(['CDR', 'PKO', 'KGH']), list(['CCC', 'QMK'])]], dtype=object)"
            ]
          },
          "metadata": {},
          "execution_count": 17
        }
      ]
    },
    {
      "cell_type": "markdown",
      "metadata": {
        "id": "o3HKIKlP15Ro"
      },
      "source": [
        "### <a name='5'></a> Ćwiczenie 85\n",
        "Podana jest poniższa tablica:\n",
        "\n",
        "```\n",
        "A = np.array([['#summer#time#mood'],\n",
        "              ['#sport#time']])\n",
        "```\n",
        "Zamień wszystkie znaki # na spacje i nastepnie usuń niepotrzebne spacje dookoła tekstu.\n",
        "\n",
        "__Oczekiwany wynik:__ \n",
        "\n",
        "\n",
        "```\n",
        "array([['summer time mood'],\n",
        "       ['sport time']], dtype='<U17')\n",
        "```\n",
        "\n",
        "\n"
      ]
    },
    {
      "cell_type": "code",
      "metadata": {
        "id": "smSCIHNNdjWQ",
        "colab": {
          "base_uri": "https://localhost:8080/"
        },
        "outputId": "2f389559-3329-4394-f467-a6f9e3becd7e"
      },
      "source": [
        "A = np.array([['#summer#time#mood'],\n",
        "              ['#sport#time']])\n",
        "#np.char.stip() -> usuwa niepotrzebne znaki poczatkowe i końcowe\n",
        "np.char.strip(np.char.replace(A,old='#',new=' '))"
      ],
      "execution_count": 19,
      "outputs": [
        {
          "output_type": "execute_result",
          "data": {
            "text/plain": [
              "array([['summer time mood'],\n",
              "       ['sport time']], dtype='<U17')"
            ]
          },
          "metadata": {},
          "execution_count": 19
        }
      ]
    },
    {
      "cell_type": "markdown",
      "metadata": {
        "id": "PunXd_Ey16so"
      },
      "source": [
        "### <a name='6'></a> Ćwiczenie 86\n",
        "Podana jest poniższa tabilca:\n",
        "\n",
        "```\n",
        "A = np.array([['#summer#time#mood', '#vibe'],\n",
        "              ['#sport#time', '#good#time'],\n",
        "              ['#event#summer', '#fast#move']])\n",
        "```\n",
        "Policz liczbę wystąpień słowa 'time' w każdym elemencie tablicy $A$.\n",
        "\n",
        "__Wskazówka:__ Użyj funkcji _np.char.count()_.\n"
      ]
    },
    {
      "cell_type": "code",
      "metadata": {
        "id": "RuiJp618fXZE",
        "colab": {
          "base_uri": "https://localhost:8080/"
        },
        "outputId": "812cea5e-5037-4e05-e278-3be7f4e7cbba"
      },
      "source": [
        "A = np.array([['#summer#time#mood', '#vibe'],\n",
        "              ['#sport#time', '#good#time'],\n",
        "              ['#event#summer', '#fast#move']])\n",
        "\n",
        "np.char.count(A,'time')"
      ],
      "execution_count": 20,
      "outputs": [
        {
          "output_type": "execute_result",
          "data": {
            "text/plain": [
              "array([[1, 0],\n",
              "       [1, 1],\n",
              "       [0, 0]])"
            ]
          },
          "metadata": {},
          "execution_count": 20
        }
      ]
    },
    {
      "cell_type": "markdown",
      "metadata": {
        "id": "hOhqDRz618Tx"
      },
      "source": [
        "### <a name='7'></a> Ćwiczenie 87\n",
        "Podany jest poniższy tekst zawierający dane dotyczące spółek z indeksu WIG20:\n",
        "\n",
        "\n",
        "```\n",
        "text = \"\"\"ALIOR\tPLALIOR00045\t88 860 000\t1 386 216 000\t0,891\t2,16\t14\n",
        "CCC\tPLCCC0000016\t27 918 000\t1 292 603 400\t0,831\t5,28\t42\n",
        "CDPROJEKT\tPLOPTTC00011\t67 348 000\t22 864 646 000\t14,702\t7,39\t7\n",
        "CYFRPLSAT\tPLCFRPT00013\t275 301 000\t6 854 994 900\t4,408\t1,17\t14\n",
        "DINOPL\tPLDINPL00011\t47 937 000\t8 916 282 000\t5,733\t9,13\t12\n",
        "JSW\tPLJSW0000015\t52 636 000\t716 902 320\t0,461\t1,51\t24\n",
        "KGHM\tPLKGHM000017\t136 410 000\t9 881 540 400\t6,354\t4,78\t8\n",
        "LOTOS\tPLLOTOS00025\t86 543 000\t5 609 717 260\t3,607\t2,91\t16\n",
        "LPP\tPLLPP0000011\t1 306 000\t7 444 200 000\t4,787\t1,43\t19\n",
        "MBANK\tPLBRE0000012\t12 997 000\t2 830 746 600\t1,820\t0,42\t24\n",
        "ORANGEPL\tPLTLKPL00017\t647 357 000\t4 285 503 340\t2,756\t1,16\t13\n",
        "PEKAO\tPLPEKAO00016\t176 379 000\t9 619 710 660\t6,185\t5,27\t9\n",
        "PGE\tPLPGER000010\t796 776 000\t3 561 588 720\t2,290\t2,88\t18\n",
        "PGNIG\tPLPGNIG00014\t1 624 608 000\t6 072 784 704\t3,905\t1,56\t12\n",
        "PKNORLEN\tPLPKN0000018\t289 049 000\t17 701 360 760\t11,382\t12,44\t8\n",
        "PKOBP\tPLPKO0000016\t857 593 000\t18 807 014 490\t12,093\t10,49\t9\n",
        "PLAY\tLU1642887738\t114 151 000\t3 696 209 380\t2,377\t1,47\t16\n",
        "PZU\tPLPZU0000011\t568 305 000\t17 515 160 100\t11,262\t6,64\t6\n",
        "SANPL\tPLBZ00000044\t33 207 000\t5 213 499 000\t3,352\t1,91\t18\n",
        "TAURONPE\tPLTAURN00011\t1 043 590 000\t1 252 308 000\t0,805\t1,21\t33\"\"\"\n",
        "```\n",
        "\n",
        "\n",
        "__Kolumny oznaczają odpowiednio:__\n",
        "\n",
        "Instrument | Kod ISIN | Pakiet | Pakiet (PLN) | Udział w portfelu(%) | Udział w obrotach akcjami i PDA na sesji (%) | Średni spread na sesji\n",
        "\n",
        "Podziel tekst na linie. Nastepnie każdą linię podziel względem znaku tabulacji '\\t' i zbuduj tablicę numpy (bez nagłówków) zawierajacą poniższe dane. Przypisz wynikową tablicę do zmiennej _result_.\n",
        "\n",
        "__Oczekiwany wynik:__\n",
        "\n",
        "\n",
        "```\n",
        "array([['ALIOR', 'PLALIOR00045', '88 860 000', '1 386 216 000', '0,891', '2,16', '14'],\n",
        "       ['CCC', 'PLCCC0000016', '27 918 000', '1 292 603 400', '0,831', '5,28', '42'],\n",
        "       ['CDPROJEKT', 'PLOPTTC00011', '67 348 000', '22 864 646 000', '14,702', '7,39', '7'],\n",
        "       ['CYFRPLSAT', 'PLCFRPT00013', '275 301 000', '6 854 994 900', '4,408', '1,17', '14'],\n",
        "       ['DINOPL', 'PLDINPL00011', '47 937 000', '8 916 282 000', '5,733', '9,13', '12'],\n",
        "       ['JSW', 'PLJSW0000015', '52 636 000', '716 902 320', '0,461', '1,51', '24'],\n",
        "       ['KGHM', 'PLKGHM000017', '136 410 000', '9 881 540 400', '6,354', '4,78', '8'],\n",
        "       ['LOTOS', 'PLLOTOS00025', '86 543 000', '5 609 717 260', '3,607', '2,91', '16'],\n",
        "       ['LPP', 'PLLPP0000011', '1 306 000', '7 444 200 000', '4,787', '1,43', '19'],\n",
        "       ['MBANK', 'PLBRE0000012', '12 997 000', '2 830 746 600', '1,820', '0,42', '24'],\n",
        "       ['ORANGEPL', 'PLTLKPL00017', '647 357 000', '4 285 503 340', '2,756', '1,16', '13'],\n",
        "       ['PEKAO', 'PLPEKAO00016', '176 379 000', '9 619 710 660', '6,185', '5,27', '9'],\n",
        "       ['PGE', 'PLPGER000010', '796 776 000', '3 561 588 720', '2,290', '2,88', '18'],\n",
        "       ['PGNIG', 'PLPGNIG00014', '1 624 608 000', '6 072 784 704', '3,905', '1,56', '12'],\n",
        "       ['PKNORLEN', 'PLPKN0000018', '289 049 000', '17 701 360 760', '11,382', '12,44', '8'],\n",
        "       ['PKOBP', 'PLPKO0000016', '857 593 000', '18 807 014 490', '12,093', '10,49', '9'],\n",
        "       ['PLAY', 'LU1642887738', '114 151 000', '3 696 209 380', '2,377', '1,47', '16'],\n",
        "       ['PZU', 'PLPZU0000011', '568 305 000', '17 515 160 100', '11,262', '6,64', '6'],\n",
        "       ['SANPL', 'PLBZ00000044', '33 207 000', '5 213 499 000', '3,352', '1,91', '18'],\n",
        "       ['TAURONPE', 'PLTAURN00011', '1 043 590 000', '1 252 308 000', '0,805', '1,21', '33']],\n",
        "      dtype='<U14')\n",
        "```\n",
        "\n",
        "\n"
      ]
    },
    {
      "cell_type": "code",
      "metadata": {
        "id": "IDcWy3WaPQGd",
        "colab": {
          "base_uri": "https://localhost:8080/"
        },
        "outputId": "fe96301d-9b1e-4a46-de5e-e780b1689b5a"
      },
      "source": [
        "text = \"\"\"ALIOR\tPLALIOR00045\t88 860 000\t1 386 216 000\t0,891\t2,16\t14\n",
        "CCC\tPLCCC0000016\t27 918 000\t1 292 603 400\t0,831\t5,28\t42\n",
        "CDPROJEKT\tPLOPTTC00011\t67 348 000\t22 864 646 000\t14,702\t7,39\t7\n",
        "CYFRPLSAT\tPLCFRPT00013\t275 301 000\t6 854 994 900\t4,408\t1,17\t14\n",
        "DINOPL\tPLDINPL00011\t47 937 000\t8 916 282 000\t5,733\t9,13\t12\n",
        "JSW\tPLJSW0000015\t52 636 000\t716 902 320\t0,461\t1,51\t24\n",
        "KGHM\tPLKGHM000017\t136 410 000\t9 881 540 400\t6,354\t4,78\t8\n",
        "LOTOS\tPLLOTOS00025\t86 543 000\t5 609 717 260\t3,607\t2,91\t16\n",
        "LPP\tPLLPP0000011\t1 306 000\t7 444 200 000\t4,787\t1,43\t19\n",
        "MBANK\tPLBRE0000012\t12 997 000\t2 830 746 600\t1,820\t0,42\t24\n",
        "ORANGEPL\tPLTLKPL00017\t647 357 000\t4 285 503 340\t2,756\t1,16\t13\n",
        "PEKAO\tPLPEKAO00016\t176 379 000\t9 619 710 660\t6,185\t5,27\t9\n",
        "PGE\tPLPGER000010\t796 776 000\t3 561 588 720\t2,290\t2,88\t18\n",
        "PGNIG\tPLPGNIG00014\t1 624 608 000\t6 072 784 704\t3,905\t1,56\t12\n",
        "PKNORLEN\tPLPKN0000018\t289 049 000\t17 701 360 760\t11,382\t12,44\t8\n",
        "PKOBP\tPLPKO0000016\t857 593 000\t18 807 014 490\t12,093\t10,49\t9\n",
        "PLAY\tLU1642887738\t114 151 000\t3 696 209 380\t2,377\t1,47\t16\n",
        "PZU\tPLPZU0000011\t568 305 000\t17 515 160 100\t11,262\t6,64\t6\n",
        "SANPL\tPLBZ00000044\t33 207 000\t5 213 499 000\t3,352\t1,91\t18\n",
        "TAURONPE\tPLTAURN00011\t1 043 590 000\t1 252 308 000\t0,805\t1,21\t33\"\"\"\n",
        "\n",
        "text_split = text.splitlines() # podział tekstu na linie\n",
        "text_split = [line.split('\\t') for line in text_split] # podział kazdej lini względem znaku tabulacji '\\t'\n",
        "result = np.array(text_split,dtype=np.str)\n",
        "result"
      ],
      "execution_count": 65,
      "outputs": [
        {
          "output_type": "stream",
          "name": "stderr",
          "text": [
            "/usr/local/lib/python3.7/dist-packages/ipykernel_launcher.py:24: DeprecationWarning: `np.str` is a deprecated alias for the builtin `str`. To silence this warning, use `str` by itself. Doing this will not modify any behavior and is safe. If you specifically wanted the numpy scalar type, use `np.str_` here.\n",
            "Deprecated in NumPy 1.20; for more details and guidance: https://numpy.org/devdocs/release/1.20.0-notes.html#deprecations\n"
          ]
        },
        {
          "output_type": "execute_result",
          "data": {
            "text/plain": [
              "array([['ALIOR', 'PLALIOR00045', '88 860 000', '1 386 216 000', '0,891', '2,16', '14'],\n",
              "       ['CCC', 'PLCCC0000016', '27 918 000', '1 292 603 400', '0,831', '5,28', '42'],\n",
              "       ['CDPROJEKT', 'PLOPTTC00011', '67 348 000', '22 864 646 000', '14,702', '7,39', '7'],\n",
              "       ['CYFRPLSAT', 'PLCFRPT00013', '275 301 000', '6 854 994 900', '4,408', '1,17', '14'],\n",
              "       ['DINOPL', 'PLDINPL00011', '47 937 000', '8 916 282 000', '5,733', '9,13', '12'],\n",
              "       ['JSW', 'PLJSW0000015', '52 636 000', '716 902 320', '0,461', '1,51', '24'],\n",
              "       ['KGHM', 'PLKGHM000017', '136 410 000', '9 881 540 400', '6,354', '4,78', '8'],\n",
              "       ['LOTOS', 'PLLOTOS00025', '86 543 000', '5 609 717 260', '3,607', '2,91', '16'],\n",
              "       ['LPP', 'PLLPP0000011', '1 306 000', '7 444 200 000', '4,787', '1,43', '19'],\n",
              "       ['MBANK', 'PLBRE0000012', '12 997 000', '2 830 746 600', '1,820', '0,42', '24'],\n",
              "       ['ORANGEPL', 'PLTLKPL00017', '647 357 000', '4 285 503 340', '2,756', '1,16', '13'],\n",
              "       ['PEKAO', 'PLPEKAO00016', '176 379 000', '9 619 710 660', '6,185', '5,27', '9'],\n",
              "       ['PGE', 'PLPGER000010', '796 776 000', '3 561 588 720', '2,290', '2,88', '18'],\n",
              "       ['PGNIG', 'PLPGNIG00014', '1 624 608 000', '6 072 784 704', '3,905', '1,56', '12'],\n",
              "       ['PKNORLEN', 'PLPKN0000018', '289 049 000', '17 701 360 760', '11,382', '12,44', '8'],\n",
              "       ['PKOBP', 'PLPKO0000016', '857 593 000', '18 807 014 490', '12,093', '10,49', '9'],\n",
              "       ['PLAY', 'LU1642887738', '114 151 000', '3 696 209 380', '2,377', '1,47', '16'],\n",
              "       ['PZU', 'PLPZU0000011', '568 305 000', '17 515 160 100', '11,262', '6,64', '6'],\n",
              "       ['SANPL', 'PLBZ00000044', '33 207 000', '5 213 499 000', '3,352', '1,91', '18'],\n",
              "       ['TAURONPE', 'PLTAURN00011', '1 043 590 000', '1 252 308 000', '0,805', '1,21', '33']],\n",
              "      dtype='<U14')"
            ]
          },
          "metadata": {},
          "execution_count": 65
        }
      ]
    },
    {
      "cell_type": "markdown",
      "metadata": {
        "id": "TXUd_4631-gw"
      },
      "source": [
        "### <a name='8'></a> Ćwiczenie 88\n",
        "Z tabilcy _result_ z poprzedniego zadania usuń wszystkie spacje w tekście oraz zamień wszystkie przecinki na kropki."
      ]
    },
    {
      "cell_type": "code",
      "metadata": {
        "id": "UBLHFX5WR-oC",
        "colab": {
          "base_uri": "https://localhost:8080/"
        },
        "outputId": "8bacbdcb-70b2-4279-e88a-8a5f15d008f2"
      },
      "source": [
        "#new1 = np.char.replace(result,' ','')\n",
        "#print(new1) # usuniecie wszystkich spacji\n",
        "\n",
        "#new2 = np.char.replace(result,',','.')\n",
        "#print(new2) # przecinki na kropki\n",
        "result = np.char.replace(result, ' ', '')\n",
        "result = np.char.replace(result, ',', '.')\n",
        "result"
      ],
      "execution_count": 67,
      "outputs": [
        {
          "output_type": "execute_result",
          "data": {
            "text/plain": [
              "array([['ALIOR', 'PLALIOR00045', '88860000', '1386216000', '0.891', '2.16', '14'],\n",
              "       ['CCC', 'PLCCC0000016', '27918000', '1292603400', '0.831', '5.28', '42'],\n",
              "       ['CDPROJEKT', 'PLOPTTC00011', '67348000', '22864646000', '14.702', '7.39', '7'],\n",
              "       ['CYFRPLSAT', 'PLCFRPT00013', '275301000', '6854994900', '4.408', '1.17', '14'],\n",
              "       ['DINOPL', 'PLDINPL00011', '47937000', '8916282000', '5.733', '9.13', '12'],\n",
              "       ['JSW', 'PLJSW0000015', '52636000', '716902320', '0.461', '1.51', '24'],\n",
              "       ['KGHM', 'PLKGHM000017', '136410000', '9881540400', '6.354', '4.78', '8'],\n",
              "       ['LOTOS', 'PLLOTOS00025', '86543000', '5609717260', '3.607', '2.91', '16'],\n",
              "       ['LPP', 'PLLPP0000011', '1306000', '7444200000', '4.787', '1.43', '19'],\n",
              "       ['MBANK', 'PLBRE0000012', '12997000', '2830746600', '1.820', '0.42', '24'],\n",
              "       ['ORANGEPL', 'PLTLKPL00017', '647357000', '4285503340', '2.756', '1.16', '13'],\n",
              "       ['PEKAO', 'PLPEKAO00016', '176379000', '9619710660', '6.185', '5.27', '9'],\n",
              "       ['PGE', 'PLPGER000010', '796776000', '3561588720', '2.290', '2.88', '18'],\n",
              "       ['PGNIG', 'PLPGNIG00014', '1624608000', '6072784704', '3.905', '1.56', '12'],\n",
              "       ['PKNORLEN', 'PLPKN0000018', '289049000', '17701360760', '11.382', '12.44', '8'],\n",
              "       ['PKOBP', 'PLPKO0000016', '857593000', '18807014490', '12.093', '10.49', '9'],\n",
              "       ['PLAY', 'LU1642887738', '114151000', '3696209380', '2.377', '1.47', '16'],\n",
              "       ['PZU', 'PLPZU0000011', '568305000', '17515160100', '11.262', '6.64', '6'],\n",
              "       ['SANPL', 'PLBZ00000044', '33207000', '5213499000', '3.352', '1.91', '18'],\n",
              "       ['TAURONPE', 'PLTAURN00011', '1043590000', '1252308000', '0.805', '1.21', '33']],\n",
              "      dtype='<U12')"
            ]
          },
          "metadata": {},
          "execution_count": 67
        }
      ]
    },
    {
      "cell_type": "markdown",
      "metadata": {
        "id": "8aBDi6nKIkBN"
      },
      "source": [
        "Następnie wytnij 5 kolumnę 'Udział w portfelu(%)' zamień jej typ na _float_ i policz sumę dla tej kolumny. Sprawdź czy wynosi 100%."
      ]
    },
    {
      "cell_type": "code",
      "source": [
        "result[:,4].astype(float).sum()"
      ],
      "metadata": {
        "id": "7Zl3BtgjGHI6",
        "outputId": "9bb84afc-05c7-42e8-a12d-147f2f26e98d",
        "colab": {
          "base_uri": "https://localhost:8080/"
        }
      },
      "execution_count": 71,
      "outputs": [
        {
          "output_type": "execute_result",
          "data": {
            "text/plain": [
              "100.001"
            ]
          },
          "metadata": {},
          "execution_count": 71
        }
      ]
    },
    {
      "cell_type": "markdown",
      "metadata": {
        "id": "tgI6xEn-2AQo"
      },
      "source": [
        "### <a name='9'></a> Ćwiczenie 89\n",
        "Z tablicy _result_ wytnij wszystkie wiersze o nazwie spółki zaczynającej się literą P i przypisz do zmiennej _stocks_startswith_P_.\n",
        "\n",
        "__Oczekiwany wynik:__\n",
        "\n",
        "\n",
        "```\n",
        "array([['PEKAO', 'PLPEKAO00016', '176379000', '9619710660', '6.185', '5.27', '9'],\n",
        "       ['PGE', 'PLPGER000010', '796776000', '3561588720', '2.290', '2.88', '18'],\n",
        "       ['PGNIG', 'PLPGNIG00014', '1624608000', '6072784704', '3.905', '1.56', '12'],\n",
        "       ['PKNORLEN', 'PLPKN0000018', '289049000', '17701360760', '11.382', '12.44', '8'],\n",
        "       ['PKOBP', 'PLPKO0000016', '857593000', '18807014490', '12.093', '10.49', '9'],\n",
        "       ['PLAY', 'LU1642887738', '114151000', '3696209380', '2.377', '1.47', '16'],\n",
        "       ['PZU', 'PLPZU0000011', '568305000', '17515160100', '11.262', '6.64', '6']], dtype='<U12')\n",
        "```\n",
        "\n"
      ]
    },
    {
      "cell_type": "code",
      "metadata": {
        "id": "ckdZrbDhT_RP",
        "colab": {
          "base_uri": "https://localhost:8080/"
        },
        "outputId": "0ca52e6b-54dd-4a34-e0f7-a046188fc8ab"
      },
      "source": [
        "stocks_startswith_P = result[np.char.startswith(result[:,0],'P')]\n",
        "stocks_startswith_P"
      ],
      "execution_count": 72,
      "outputs": [
        {
          "output_type": "execute_result",
          "data": {
            "text/plain": [
              "array([['PEKAO', 'PLPEKAO00016', '176379000', '9619710660', '6.185', '5.27', '9'],\n",
              "       ['PGE', 'PLPGER000010', '796776000', '3561588720', '2.290', '2.88', '18'],\n",
              "       ['PGNIG', 'PLPGNIG00014', '1624608000', '6072784704', '3.905', '1.56', '12'],\n",
              "       ['PKNORLEN', 'PLPKN0000018', '289049000', '17701360760', '11.382', '12.44', '8'],\n",
              "       ['PKOBP', 'PLPKO0000016', '857593000', '18807014490', '12.093', '10.49', '9'],\n",
              "       ['PLAY', 'LU1642887738', '114151000', '3696209380', '2.377', '1.47', '16'],\n",
              "       ['PZU', 'PLPZU0000011', '568305000', '17515160100', '11.262', '6.64', '6']], dtype='<U12')"
            ]
          },
          "metadata": {},
          "execution_count": 72
        }
      ]
    },
    {
      "cell_type": "markdown",
      "metadata": {
        "id": "wxhpf-uq2B1I"
      },
      "source": [
        "### <a name='10'></a> Ćwiczenie 90\n",
        "Wykorzystując zmienną _stocks_startswith_P_ policz łączny udział spółek, których nazwa rozpoczyna się literą P. Wynik zaokrąglij do dwóch miejsc po przecinku."
      ]
    },
    {
      "cell_type": "code",
      "metadata": {
        "id": "YFc0KW6URsuc",
        "colab": {
          "base_uri": "https://localhost:8080/"
        },
        "outputId": "e8c00588-93aa-44a3-9b7f-519b9150fd70"
      },
      "source": [
        "np.round(stocks_startswith_P[:, 4].astype(float).sum(), 2)"
      ],
      "execution_count": 84,
      "outputs": [
        {
          "output_type": "execute_result",
          "data": {
            "text/plain": [
              "49.49"
            ]
          },
          "metadata": {},
          "execution_count": 84
        }
      ]
    }
  ]
}