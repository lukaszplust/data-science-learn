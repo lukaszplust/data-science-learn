{
  "nbformat": 4,
  "nbformat_minor": 0,
  "metadata": {
    "colab": {
      "provenance": [],
      "authorship_tag": "ABX9TyO8LWKVm0xBumqiWW/aGN9V",
      "include_colab_link": true
    },
    "kernelspec": {
      "name": "python3",
      "display_name": "Python 3"
    },
    "language_info": {
      "name": "python"
    }
  },
  "cells": [
    {
      "cell_type": "markdown",
      "metadata": {
        "id": "view-in-github",
        "colab_type": "text"
      },
      "source": [
        "<a href=\"https://colab.research.google.com/github/lukaszplust/data-science-learn/blob/main/quicksort.ipynb\" target=\"_parent\"><img src=\"https://colab.research.google.com/assets/colab-badge.svg\" alt=\"Open In Colab\"/></a>"
      ]
    },
    {
      "cell_type": "code",
      "execution_count": 2,
      "metadata": {
        "colab": {
          "base_uri": "https://localhost:8080/"
        },
        "id": "11t1CzQQ__un",
        "outputId": "d9208fe6-9156-47b4-9a5d-e29c12193071"
      },
      "outputs": [
        {
          "output_type": "stream",
          "name": "stdout",
          "text": [
            "[0, 1, 2, 3, 4, 5, 6, 6, 6, 7, 7, 7, 8, 8, 8, 9, 9, 9]\n"
          ]
        }
      ],
      "source": [
        "def quick_sort(seq):\n",
        "\n",
        "    length = len(seq)\n",
        "\n",
        "    if length <= 1:\n",
        "        return seq\n",
        "    else:\n",
        "        pivot = seq.pop()#ustawiam pivot na ostatni element\n",
        "\n",
        "    greater = []#tablica na przechowywanie wiekszych\n",
        "    lower = []#tablica na przechowywanie mniejszych\n",
        "\n",
        "    for item in seq:\n",
        "\n",
        "        if item > pivot:#dla wiekszych niz pivot wrzucam do greater\n",
        "            greater.append(item)\n",
        "\n",
        "        else:#dla mniejszych do lower\n",
        "            lower.append(item)\n",
        "    #zwracam rekurencyjnie mniejsze + pivot + wieksze\n",
        "    return quick_sort(lower) + [pivot] + quick_sort(greater)\n",
        "\n",
        "print(quick_sort([1,3,9,4,2,6,7,8,9,8,7,6,5,6,7,8,9,0]))"
      ]
    },
    {
      "cell_type": "code",
      "source": [],
      "metadata": {
        "id": "V05R8M6AAAtd"
      },
      "execution_count": null,
      "outputs": []
    }
  ]
}