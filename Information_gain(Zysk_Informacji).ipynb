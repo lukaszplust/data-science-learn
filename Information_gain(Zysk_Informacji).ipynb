{
  "nbformat": 4,
  "nbformat_minor": 0,
  "metadata": {
    "colab": {
      "provenance": [],
      "authorship_tag": "ABX9TyPoC7in2nB1RT5XxdnedxD7",
      "include_colab_link": true
    },
    "kernelspec": {
      "name": "python3",
      "display_name": "Python 3"
    },
    "language_info": {
      "name": "python"
    }
  },
  "cells": [
    {
      "cell_type": "markdown",
      "metadata": {
        "id": "view-in-github",
        "colab_type": "text"
      },
      "source": [
        "<a href=\"https://colab.research.google.com/github/lukaszplust/data-science-learn/blob/main/Information_gain(Zysk_Informacji).ipynb\" target=\"_parent\"><img src=\"https://colab.research.google.com/assets/colab-badge.svg\" alt=\"Open In Colab\"/></a>"
      ]
    },
    {
      "cell_type": "code",
      "source": [
        "import numpy as np\n",
        "import matplotlib.pyplot as plt\n",
        "import seaborn as sns\n",
        "sns.set()"
      ],
      "metadata": {
        "id": "c0g7cy-8eaZt"
      },
      "execution_count": 2,
      "outputs": []
    },
    {
      "cell_type": "code",
      "source": [
        "def entropy(x):\n",
        "    return -np.sum(x * np.log2(x))"
      ],
      "metadata": {
        "id": "RPEcU-ccg7dF"
      },
      "execution_count": 3,
      "outputs": []
    },
    {
      "cell_type": "code",
      "source": [
        "print(entropy([0.5, 0.5]))\n",
        "print(entropy([0.8, 0.2]))\n",
        "print(entropy([0.95, 0.05]))"
      ],
      "metadata": {
        "colab": {
          "base_uri": "https://localhost:8080/"
        },
        "id": "98FaF5I6g-hi",
        "outputId": "fcd79754-b895-4660-87cd-d04411e28a04"
      },
      "execution_count": 4,
      "outputs": [
        {
          "output_type": "stream",
          "name": "stdout",
          "text": [
            "1.0\n",
            "0.7219280948873623\n",
            "0.28639695711595625\n"
          ]
        }
      ]
    },
    {
      "cell_type": "code",
      "source": [
        "p = np.arange(0.01, 1.0, 0.01)\n",
        "q = 1 - p\n",
        "pq = np.c_[p,q]"
      ],
      "metadata": {
        "id": "DizH7FrchjLw"
      },
      "execution_count": 5,
      "outputs": []
    },
    {
      "cell_type": "code",
      "source": [
        "pq[:5]"
      ],
      "metadata": {
        "colab": {
          "base_uri": "https://localhost:8080/"
        },
        "id": "bAiiSzfyhnkV",
        "outputId": "a91f8b93-02a4-468d-b743-bae2f0570104"
      },
      "execution_count": 12,
      "outputs": [
        {
          "output_type": "execute_result",
          "data": {
            "text/plain": [
              "array([[0.01, 0.99],\n",
              "       [0.02, 0.98],\n",
              "       [0.03, 0.97],\n",
              "       [0.04, 0.96],\n",
              "       [0.05, 0.95]])"
            ]
          },
          "metadata": {},
          "execution_count": 12
        }
      ]
    },
    {
      "cell_type": "code",
      "source": [
        "entropies = [entropy(pair) for pair in pq]#obliczam dla kazdej pary entropie\n",
        "entropies"
      ],
      "metadata": {
        "colab": {
          "base_uri": "https://localhost:8080/"
        },
        "id": "TtETd5Csho-J",
        "outputId": "25140a57-7e86-43bc-9264-f8af1e5c8743"
      },
      "execution_count": 14,
      "outputs": [
        {
          "output_type": "execute_result",
          "data": {
            "text/plain": [
              "[0.08079313589591118,\n",
              " 0.14144054254182067,\n",
              " 0.1943918578315762,\n",
              " 0.24229218908241482,\n",
              " 0.28639695711595625,\n",
              " 0.32744491915447627,\n",
              " 0.3659236509002231,\n",
              " 0.4021791902022728,\n",
              " 0.43646981706410287,\n",
              " 0.4689955935892812,\n",
              " 0.499915958164528,\n",
              " 0.5293608652873644,\n",
              " 0.557438185027989,\n",
              " 0.584238811642856,\n",
              " 0.6098403047164005,\n",
              " 0.6343095546405662,\n",
              " 0.6577047787442195,\n",
              " 0.6800770457282799,\n",
              " 0.7014714598838974,\n",
              " 0.7219280948873623,\n",
              " 0.7414827399312737,\n",
              " 0.7601675029619657,\n",
              " 0.7780113035465377,\n",
              " 0.7950402793845222,\n",
              " 0.8112781244591328,\n",
              " 0.8267463724926178,\n",
              " 0.8414646362081757,\n",
              " 0.8554508105601306,\n",
              " 0.8687212463394046,\n",
              " 0.8812908992306927,\n",
              " 0.8931734583778568,\n",
              " 0.9043814577244939,\n",
              " 0.9149263727797275,\n",
              " 0.9248187049730301,\n",
              " 0.934068055375491,\n",
              " 0.9426831892554923,\n",
              " 0.9506720926870659,\n",
              " 0.9580420222262995,\n",
              " 0.9647995485050872,\n",
              " 0.9709505944546686,\n",
              " 0.976500468757824,\n",
              " 0.9814538950336537,\n",
              " 0.9858150371789197,\n",
              " 0.9895875212220556,\n",
              " 0.9927744539878083,\n",
              " 0.9953784388202257,\n",
              " 0.9974015885677396,\n",
              " 0.998845535995202,\n",
              " 0.9997114417528099,\n",
              " 1.0,\n",
              " 0.9997114417528099,\n",
              " 0.9988455359952018,\n",
              " 0.9974015885677396,\n",
              " 0.9953784388202257,\n",
              " 0.9927744539878083,\n",
              " 0.9895875212220556,\n",
              " 0.9858150371789198,\n",
              " 0.9814538950336534,\n",
              " 0.976500468757824,\n",
              " 0.9709505944546686,\n",
              " 0.9647995485050872,\n",
              " 0.9580420222262995,\n",
              " 0.9506720926870659,\n",
              " 0.9426831892554922,\n",
              " 0.934068055375491,\n",
              " 0.92481870497303,\n",
              " 0.9149263727797274,\n",
              " 0.9043814577244937,\n",
              " 0.8931734583778567,\n",
              " 0.8812908992306926,\n",
              " 0.8687212463394044,\n",
              " 0.8554508105601306,\n",
              " 0.8414646362081757,\n",
              " 0.8267463724926178,\n",
              " 0.8112781244591328,\n",
              " 0.7950402793845223,\n",
              " 0.7780113035465376,\n",
              " 0.7601675029619656,\n",
              " 0.7414827399312736,\n",
              " 0.7219280948873623,\n",
              " 0.7014714598838974,\n",
              " 0.6800770457282796,\n",
              " 0.6577047787442193,\n",
              " 0.6343095546405659,\n",
              " 0.6098403047164005,\n",
              " 0.584238811642856,\n",
              " 0.557438185027989,\n",
              " 0.5293608652873644,\n",
              " 0.49991595816452794,\n",
              " 0.4689955935892811,\n",
              " 0.4364698170641028,\n",
              " 0.40217919020227266,\n",
              " 0.36592365090022305,\n",
              " 0.32744491915447593,\n",
              " 0.2863969571159558,\n",
              " 0.2422921890824144,\n",
              " 0.1943918578315763,\n",
              " 0.14144054254182076,\n",
              " 0.08079313589591124]"
            ]
          },
          "metadata": {},
          "execution_count": 14
        }
      ]
    },
    {
      "cell_type": "code",
      "source": [
        "plt.plot(p, entropies)"
      ],
      "metadata": {
        "colab": {
          "base_uri": "https://localhost:8080/",
          "height": 285
        },
        "id": "SWwV-4tJiOEP",
        "outputId": "bb9d9100-eb2d-4485-adeb-7224c3e8e463"
      },
      "execution_count": 15,
      "outputs": [
        {
          "output_type": "execute_result",
          "data": {
            "text/plain": [
              "[<matplotlib.lines.Line2D at 0x7fb72c3a1160>]"
            ]
          },
          "metadata": {},
          "execution_count": 15
        },
        {
          "output_type": "display_data",
          "data": {
            "text/plain": [
              "<Figure size 432x288 with 1 Axes>"
            ],
            "image/png": "[encoded data removed]"
          },
          "metadata": {}
        }
      ]
    },
    {
      "cell_type": "markdown",
      "source": [
        "### Rozważmy dane\n",
        "\n",
        "| ID | Dochód | Liczba osób w gospodarstwie | Wiarygodność | Udzielenie pożyczki |\n",
        "|----|--------|-----------------------------|--------------|---------------------|\n",
        "| 1  | niski  | 1                           | niska        | 0                   |\n",
        "| 2  | niski  | 3                           | niska        | 0                   |\n",
        "| 3  | średni | 4                           | niska        | 0                   |\n",
        "| 4  | wysoki | 3                           | średnia      | 0                   |\n",
        "| 5  | wysoki | 4                           | wysoka       | 1                   |\n",
        "| 6  | niski  | 4                           | niska        | 0                   |\n",
        "| 7  | średni | 2                           | średnia      | 1                   |\n",
        "| 8  | wysoki | 3                           | wysoka       | 1                   |\n",
        "| 9  | średni | 5                           | niska        | 0                   |\n",
        "| 10 | średni | 1                           | wysoka       | 1                   |\n",
        "\n",
        "\n",
        "Rozkład zmiennej Udzienie pożyczki:\n",
        "\n",
        "| Udzielenie pożyczki | 0    | 1    |\n",
        "|---------------------|------|------|\n",
        "| $p_{i}$               | 6/10 | 4/10 |\n",
        "\n",
        "\n",
        "Wzór na entropię:\n",
        "###  $E = - \\sum_{i=1}^{n}p_{i} \\cdot log_{2}p_{i}$\n",
        "\n",
        "Entropia po podziale:\n",
        "\n",
        "###  $E_{after}  = \\sum_{i=1}^{m} \\frac{S_{i}}{S}Entropia(S_{i})$\n",
        "\n",
        "gdzie \n",
        "$S$ - podział\n",
        "$m$ - liczba podziałów"
      ],
      "metadata": {
        "id": "uuCvM58RjJZ2"
      }
    },
    {
      "cell_type": "code",
      "source": [
        "entropia = -(6/10 * np.log2(6/10) + (4/10) * np.log2(4/10))\n",
        "entropia"
      ],
      "metadata": {
        "colab": {
          "base_uri": "https://localhost:8080/"
        },
        "id": "s95gXuBKi6cd",
        "outputId": "4dbfb99c-9e65-4c03-ead8-721ecc88d3c4"
      },
      "execution_count": 16,
      "outputs": [
        {
          "output_type": "execute_result",
          "data": {
            "text/plain": [
              "0.9709505944546686"
            ]
          },
          "metadata": {},
          "execution_count": 16
        }
      ]
    },
    {
      "cell_type": "markdown",
      "source": [
        "### Rozkład zmiennej `Wiarygodność`\n",
        "\n",
        "|         | udział | udzielenie pożyczki = 0 | udzielenie pożyczki = 1 |  Entropia\n",
        "|---------|--------|-------------------------|-------------------------|--------|\n",
        "| niska   | 5/10   | 1                       | 0                       | 0\n",
        "| średnia | 2/10   | 1/2                     | 1/2                     | 1\n",
        "| wysoka  | 3/10   | 0                       | 1                       | 0\n",
        "\n",
        "Entropia po podziale"
      ],
      "metadata": {
        "id": "urJj6ddxvKI0"
      }
    },
    {
      "cell_type": "code",
      "source": [
        "entropia_wiarygodnosc = 5/10 * 0 + 2/10 * 1 + 3/10 * 0\n",
        "entropia_wiarygodnosc"
      ],
      "metadata": {
        "colab": {
          "base_uri": "https://localhost:8080/"
        },
        "id": "GODUN5vovKbe",
        "outputId": "2b7af38b-ee5d-4c1d-e0fa-c7a77437a4d4"
      },
      "execution_count": 17,
      "outputs": [
        {
          "output_type": "execute_result",
          "data": {
            "text/plain": [
              "0.2"
            ]
          },
          "metadata": {},
          "execution_count": 17
        }
      ]
    },
    {
      "cell_type": "markdown",
      "source": [
        "### Rozkład zmiennej  `Dochód`\n",
        "\n",
        "|        | udział | udzielenie pożyczki = 0 | udzielenie pożyczki = 1 | Entropia\n",
        "|--------|--------|-------------------------|-------------------------|----------|\n",
        "| niski  | 3/10   | 1                       | 0                       |0\n",
        "| sredni | 4/10   | 2/4                     | 2/4                     |1\n",
        "| wysoki | 3/10   | 1/3                     | 2/3                     | 0.9183\n",
        "\n",
        "Entropia po podziale"
      ],
      "metadata": {
        "id": "fCvBOfbivfqc"
      }
    },
    {
      "cell_type": "code",
      "source": [
        "entropia_dochod = 3/10 * 0 + 4/10 * 1 + 3/10 * 0.9183\n",
        "entropia_dochod"
      ],
      "metadata": {
        "colab": {
          "base_uri": "https://localhost:8080/"
        },
        "id": "jj5boqbDvbxu",
        "outputId": "a9b21b44-3f62-4d1b-ef38-7133b1a69e68"
      },
      "execution_count": 18,
      "outputs": [
        {
          "output_type": "execute_result",
          "data": {
            "text/plain": [
              "0.67549"
            ]
          },
          "metadata": {},
          "execution_count": 18
        }
      ]
    },
    {
      "cell_type": "markdown",
      "source": [
        "### Zysk Informacyjny\n",
        "\n",
        "$IG (Information\\ Gain) = Entropia\\ przed\\ podziałem - Entropia\\ po\\ podziale$"
      ],
      "metadata": {
        "id": "X1yWI410vl1u"
      }
    },
    {
      "cell_type": "code",
      "source": [
        "ig_wiarygodnosc = entropia - entropia_wiarygodnosc\n",
        "ig_dochod = entropia - entropia_dochod\n",
        "\n",
        "print('Zysk informacyjny (IG): wiarygodność:', ig_wiarygodnosc)\n",
        "print('Zysk informacyjny (IG): dochód:', ig_dochod)"
      ],
      "metadata": {
        "colab": {
          "base_uri": "https://localhost:8080/"
        },
        "id": "49GKShlVvjMN",
        "outputId": "3d5d284c-c3e9-4a41-c4a4-9e74f9b22170"
      },
      "execution_count": 19,
      "outputs": [
        {
          "output_type": "stream",
          "name": "stdout",
          "text": [
            "Zysk informacyjny (IG): wiarygodność: 0.7709505944546686\n",
            "Zysk informacyjny (IG): dochód: 0.29546059445466855\n"
          ]
        }
      ]
    },
    {
      "cell_type": "code",
      "source": [],
      "metadata": {
        "id": "k-i9j8y6votY"
      },
      "execution_count": null,
      "outputs": []
    }
  ]
}