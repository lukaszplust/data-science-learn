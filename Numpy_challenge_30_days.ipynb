{
  "nbformat": 4,
  "nbformat_minor": 0,
  "metadata": {
    "colab": {
      "provenance": [],
      "authorship_tag": "ABX9TyPW7wCIYkame51aZzlncCw5",
      "include_colab_link": true
    },
    "kernelspec": {
      "name": "python3",
      "display_name": "Python 3"
    },
    "language_info": {
      "name": "python"
    }
  },
  "cells": [
    {
      "cell_type": "markdown",
      "metadata": {
        "id": "view-in-github",
        "colab_type": "text"
      },
      "source": [
        "<a href=\"https://colab.research.google.com/github/lukaszplust/data-science-learn/blob/main/Numpy_challenge_30_days.ipynb\" target=\"_parent\"><img src=\"https://colab.research.google.com/assets/colab-badge.svg\" alt=\"Open In Colab\"/></a>"
      ]
    },
    {
      "cell_type": "code",
      "source": [
        "import numpy as np"
      ],
      "metadata": {
        "id": "PppKLHA51Y65"
      },
      "execution_count": 1,
      "outputs": []
    },
    {
      "cell_type": "markdown",
      "source": [
        "Day 1"
      ],
      "metadata": {
        "id": "Ny4HLx6YHPHF"
      }
    },
    {
      "cell_type": "code",
      "execution_count": 5,
      "metadata": {
        "id": "GJ_uYe3yGgiB"
      },
      "outputs": [],
      "source": [
        "import numpy as np\n",
        "\n",
        "\n",
        "arr = np.zeros(shape = (5,5),dtype=\"int\")\n",
        "print(arr)"
      ]
    },
    {
      "cell_type": "code",
      "source": [
        "print(arr)"
      ],
      "metadata": {
        "colab": {
          "base_uri": "https://localhost:8080/"
        },
        "id": "5dPWSwACGrj_",
        "outputId": "f4b6cbfd-ba00-449d-f8de-22e4c5fac91d"
      },
      "execution_count": 6,
      "outputs": [
        {
          "output_type": "execute_result",
          "data": {
            "text/plain": [
              "array([[0, 0, 0, 0, 0],\n",
              "       [0, 0, 0, 0, 0],\n",
              "       [0, 0, 0, 0, 0],\n",
              "       [0, 0, 0, 0, 0],\n",
              "       [0, 0, 0, 0, 0]])"
            ]
          },
          "metadata": {},
          "execution_count": 6
        }
      ]
    },
    {
      "cell_type": "code",
      "source": [
        "arr = np.full(shape = (10,10), fill_value= 8, dtype = \"float32\")\n",
        "print(arr)"
      ],
      "metadata": {
        "colab": {
          "base_uri": "https://localhost:8080/"
        },
        "id": "UJLasN3QHBY-",
        "outputId": "f284f60b-7d2a-4fd0-d113-273635bc67dc"
      },
      "execution_count": 10,
      "outputs": [
        {
          "output_type": "stream",
          "name": "stdout",
          "text": [
            "[[8. 8. 8. 8. 8. 8. 8. 8. 8. 8.]\n",
            " [8. 8. 8. 8. 8. 8. 8. 8. 8. 8.]\n",
            " [8. 8. 8. 8. 8. 8. 8. 8. 8. 8.]\n",
            " [8. 8. 8. 8. 8. 8. 8. 8. 8. 8.]\n",
            " [8. 8. 8. 8. 8. 8. 8. 8. 8. 8.]\n",
            " [8. 8. 8. 8. 8. 8. 8. 8. 8. 8.]\n",
            " [8. 8. 8. 8. 8. 8. 8. 8. 8. 8.]\n",
            " [8. 8. 8. 8. 8. 8. 8. 8. 8. 8.]\n",
            " [8. 8. 8. 8. 8. 8. 8. 8. 8. 8.]\n",
            " [8. 8. 8. 8. 8. 8. 8. 8. 8. 8.]]\n"
          ]
        }
      ]
    },
    {
      "cell_type": "code",
      "source": [
        "np.arange(10,100,1)"
      ],
      "metadata": {
        "colab": {
          "base_uri": "https://localhost:8080/"
        },
        "id": "VvgaK0pvHwdE",
        "outputId": "eb5a5bce-f3bc-413c-a03b-c439102a51ee"
      },
      "execution_count": 11,
      "outputs": [
        {
          "output_type": "execute_result",
          "data": {
            "text/plain": [
              "array([10, 11, 12, 13, 14, 15, 16, 17, 18, 19, 20, 21, 22, 23, 24, 25, 26,\n",
              "       27, 28, 29, 30, 31, 32, 33, 34, 35, 36, 37, 38, 39, 40, 41, 42, 43,\n",
              "       44, 45, 46, 47, 48, 49, 50, 51, 52, 53, 54, 55, 56, 57, 58, 59, 60,\n",
              "       61, 62, 63, 64, 65, 66, 67, 68, 69, 70, 71, 72, 73, 74, 75, 76, 77,\n",
              "       78, 79, 80, 81, 82, 83, 84, 85, 86, 87, 88, 89, 90, 91, 92, 93, 94,\n",
              "       95, 96, 97, 98, 99])"
            ]
          },
          "metadata": {},
          "execution_count": 11
        }
      ]
    },
    {
      "cell_type": "code",
      "source": [
        "arr = np.arange(10,100,1)\n",
        "print(arr.reshape(9,10))"
      ],
      "metadata": {
        "colab": {
          "base_uri": "https://localhost:8080/"
        },
        "id": "xknBMYd7WbgV",
        "outputId": "2281a537-624d-41c3-8f85-d7e94af91e9f"
      },
      "execution_count": 7,
      "outputs": [
        {
          "output_type": "stream",
          "name": "stdout",
          "text": [
            "[[10 11 12 13 14 15 16 17 18 19]\n",
            " [20 21 22 23 24 25 26 27 28 29]\n",
            " [30 31 32 33 34 35 36 37 38 39]\n",
            " [40 41 42 43 44 45 46 47 48 49]\n",
            " [50 51 52 53 54 55 56 57 58 59]\n",
            " [60 61 62 63 64 65 66 67 68 69]\n",
            " [70 71 72 73 74 75 76 77 78 79]\n",
            " [80 81 82 83 84 85 86 87 88 89]\n",
            " [90 91 92 93 94 95 96 97 98 99]]\n"
          ]
        }
      ]
    },
    {
      "cell_type": "code",
      "source": [
        "arr = np.eye(8, dtype = \"int16\")\n",
        "print(arr)"
      ],
      "metadata": {
        "colab": {
          "base_uri": "https://localhost:8080/"
        },
        "id": "MusN2a4j3stU",
        "outputId": "0a5e13d7-b623-47dd-8e23-63ba319cc14e"
      },
      "execution_count": 13,
      "outputs": [
        {
          "output_type": "stream",
          "name": "stdout",
          "text": [
            "[[1 0 0 0 0 0 0 0]\n",
            " [0 1 0 0 0 0 0 0]\n",
            " [0 0 1 0 0 0 0 0]\n",
            " [0 0 0 1 0 0 0 0]\n",
            " [0 0 0 0 1 0 0 0]\n",
            " [0 0 0 0 0 1 0 0]\n",
            " [0 0 0 0 0 0 1 0]\n",
            " [0 0 0 0 0 0 0 1]]\n"
          ]
        }
      ]
    },
    {
      "cell_type": "code",
      "source": [
        "arr = np.arange(1,25,1)\n",
        "arr.reshape((2,3,4))"
      ],
      "metadata": {
        "colab": {
          "base_uri": "https://localhost:8080/"
        },
        "id": "Qrwc5lvI4Uwv",
        "outputId": "8b5e2611-3470-4bbd-fb4b-e57a54481628"
      },
      "execution_count": 17,
      "outputs": [
        {
          "output_type": "execute_result",
          "data": {
            "text/plain": [
              "array([[[ 1,  2,  3,  4],\n",
              "        [ 5,  6,  7,  8],\n",
              "        [ 9, 10, 11, 12]],\n",
              "\n",
              "       [[13, 14, 15, 16],\n",
              "        [17, 18, 19, 20],\n",
              "        [21, 22, 23, 24]]])"
            ]
          },
          "metadata": {},
          "execution_count": 17
        }
      ]
    },
    {
      "cell_type": "code",
      "source": [
        "import numpy as np\n",
        "\n",
        "\n",
        "arr = np.array(\n",
        "    [\n",
        "        ['4', '3', '6', '2', '1'],\n",
        "        ['7', '2', '1', '2', '6'],\n",
        "    ],\n",
        "    dtype='<U1',\n",
        ")"
      ],
      "metadata": {
        "id": "fw_IaqZH4yc9"
      },
      "execution_count": 18,
      "outputs": []
    },
    {
      "cell_type": "code",
      "source": [
        "#[i.astype(\"float16\") for i in arr] NiE SMIGA"
      ],
      "metadata": {
        "id": "aYec-z7G5flE"
      },
      "execution_count": 28,
      "outputs": []
    },
    {
      "cell_type": "code",
      "source": [
        "arr = arr.astype(\"float16\")\n",
        "print(arr)"
      ],
      "metadata": {
        "colab": {
          "base_uri": "https://localhost:8080/"
        },
        "id": "IBX_tkTe5pmt",
        "outputId": "9e33d181-9e9e-4620-d377-73b28801bd2f"
      },
      "execution_count": 26,
      "outputs": [
        {
          "output_type": "stream",
          "name": "stdout",
          "text": [
            "[[4. 3. 6. 2. 1.]\n",
            " [7. 2. 1. 2. 6.]]\n"
          ]
        }
      ]
    },
    {
      "cell_type": "code",
      "source": [
        "arr = np.arange(1,6,1)\n",
        "arr = arr.reshape((0,5))\n",
        "print(arr)"
      ],
      "metadata": {
        "colab": {
          "base_uri": "https://localhost:8080/",
          "height": 200
        },
        "id": "RfCJRJsL6qHV",
        "outputId": "d2f5f099-7933-4428-e25c-28b710b96620"
      },
      "execution_count": 42,
      "outputs": [
        {
          "output_type": "error",
          "ename": "ValueError",
          "evalue": "ignored",
          "traceback": [
            "\u001b[0;31m---------------------------------------------------------------------------\u001b[0m",
            "\u001b[0;31mValueError\u001b[0m                                Traceback (most recent call last)",
            "\u001b[0;32m<ipython-input-42-fc7facaa25af>\u001b[0m in \u001b[0;36m<cell line: 2>\u001b[0;34m()\u001b[0m\n\u001b[1;32m      1\u001b[0m \u001b[0marr\u001b[0m \u001b[0;34m=\u001b[0m \u001b[0mnp\u001b[0m\u001b[0;34m.\u001b[0m\u001b[0marange\u001b[0m\u001b[0;34m(\u001b[0m\u001b[0;36m1\u001b[0m\u001b[0;34m,\u001b[0m\u001b[0;36m6\u001b[0m\u001b[0;34m,\u001b[0m\u001b[0;36m1\u001b[0m\u001b[0;34m)\u001b[0m\u001b[0;34m\u001b[0m\u001b[0;34m\u001b[0m\u001b[0m\n\u001b[0;32m----> 2\u001b[0;31m \u001b[0marr\u001b[0m \u001b[0;34m=\u001b[0m \u001b[0marr\u001b[0m\u001b[0;34m.\u001b[0m\u001b[0mreshape\u001b[0m\u001b[0;34m(\u001b[0m\u001b[0;34m(\u001b[0m\u001b[0;36m0\u001b[0m\u001b[0;34m,\u001b[0m\u001b[0;36m5\u001b[0m\u001b[0;34m)\u001b[0m\u001b[0;34m)\u001b[0m\u001b[0;34m\u001b[0m\u001b[0;34m\u001b[0m\u001b[0m\n\u001b[0m\u001b[1;32m      3\u001b[0m \u001b[0mprint\u001b[0m\u001b[0;34m(\u001b[0m\u001b[0marr\u001b[0m\u001b[0;34m)\u001b[0m\u001b[0;34m\u001b[0m\u001b[0;34m\u001b[0m\u001b[0m\n",
            "\u001b[0;31mValueError\u001b[0m: cannot reshape array of size 5 into shape (0,5)"
          ]
        }
      ]
    },
    {
      "cell_type": "code",
      "source": [
        "arr = np.random.randint(1, 10, size=5)\n",
        "\n",
        "print(arr)"
      ],
      "metadata": {
        "colab": {
          "base_uri": "https://localhost:8080/"
        },
        "id": "_Kz0wCPW7GwC",
        "outputId": "aa107be6-7988-4a41-9275-1c130c6264b7"
      },
      "execution_count": 49,
      "outputs": [
        {
          "output_type": "stream",
          "name": "stdout",
          "text": [
            "[8 7 1 6 8]\n"
          ]
        }
      ]
    },
    {
      "cell_type": "code",
      "source": [
        "arr = np.array([4, 5, 67, 8, 2])\n",
        "print(arr)"
      ],
      "metadata": {
        "colab": {
          "base_uri": "https://localhost:8080/"
        },
        "id": "JIIPUTwZ7rEs",
        "outputId": "5a54c691-9cc2-4503-8162-fa12376bd10e"
      },
      "execution_count": 44,
      "outputs": [
        {
          "output_type": "stream",
          "name": "stdout",
          "text": [
            "[ 4  5 67  8  2]\n"
          ]
        }
      ]
    },
    {
      "cell_type": "code",
      "source": [
        "arr = np.random.rand(5,1)\n",
        "print(arr)"
      ],
      "metadata": {
        "id": "B2caflGM94jO"
      },
      "execution_count": null,
      "outputs": []
    },
    {
      "cell_type": "markdown",
      "source": [
        "Day 2"
      ],
      "metadata": {
        "id": "UG1pZ_xyGVta"
      }
    },
    {
      "cell_type": "code",
      "source": [
        "np.diag?"
      ],
      "metadata": {
        "id": "mzBllr9F2PaF"
      },
      "execution_count": 2,
      "outputs": []
    },
    {
      "cell_type": "code",
      "source": [
        "x = np.arange(10)\n",
        "arr = np.diag(x)\n",
        "print(arr)"
      ],
      "metadata": {
        "colab": {
          "base_uri": "https://localhost:8080/"
        },
        "id": "kk0MKw8j2pqF",
        "outputId": "09583919-c9c2-4bd0-dd92-01ab6d287538"
      },
      "execution_count": 12,
      "outputs": [
        {
          "output_type": "stream",
          "name": "stdout",
          "text": [
            "[[0 0 0 0 0 0 0 0 0 0]\n",
            " [0 1 0 0 0 0 0 0 0 0]\n",
            " [0 0 2 0 0 0 0 0 0 0]\n",
            " [0 0 0 3 0 0 0 0 0 0]\n",
            " [0 0 0 0 4 0 0 0 0 0]\n",
            " [0 0 0 0 0 5 0 0 0 0]\n",
            " [0 0 0 0 0 0 6 0 0 0]\n",
            " [0 0 0 0 0 0 0 7 0 0]\n",
            " [0 0 0 0 0 0 0 0 8 0]\n",
            " [0 0 0 0 0 0 0 0 0 9]]\n"
          ]
        }
      ]
    },
    {
      "cell_type": "code",
      "source": [
        "arr = np.diag(x)"
      ],
      "metadata": {
        "id": "s-TeZWZEH9Fg"
      },
      "execution_count": 10,
      "outputs": []
    },
    {
      "cell_type": "code",
      "source": [
        "print(arr)"
      ],
      "metadata": {
        "colab": {
          "base_uri": "https://localhost:8080/"
        },
        "id": "eAwx0k7o2gJZ",
        "outputId": "04a6cf7a-ebab-4388-ed5d-fc15fcab6429"
      },
      "execution_count": 11,
      "outputs": [
        {
          "output_type": "stream",
          "name": "stdout",
          "text": [
            "[[0 0 0 0 0 0 0 0 0 0]\n",
            " [0 1 0 0 0 0 0 0 0 0]\n",
            " [0 0 2 0 0 0 0 0 0 0]\n",
            " [0 0 0 3 0 0 0 0 0 0]\n",
            " [0 0 0 0 4 0 0 0 0 0]\n",
            " [0 0 0 0 0 5 0 0 0 0]\n",
            " [0 0 0 0 0 0 6 0 0 0]\n",
            " [0 0 0 0 0 0 0 7 0 0]\n",
            " [0 0 0 0 0 0 0 0 8 0]\n",
            " [0 0 0 0 0 0 0 0 0 9]]\n"
          ]
        }
      ]
    },
    {
      "cell_type": "code",
      "source": [
        "arr = np.ones(shape=(4, 4), dtype='int')"
      ],
      "metadata": {
        "id": "qFW2qmww2wtZ"
      },
      "execution_count": 26,
      "outputs": []
    },
    {
      "cell_type": "code",
      "source": [
        "arr"
      ],
      "metadata": {
        "colab": {
          "base_uri": "https://localhost:8080/"
        },
        "id": "fjK1XUQC3XPa",
        "outputId": "616543a5-e7f4-4c78-e49e-03870433fd57"
      },
      "execution_count": 27,
      "outputs": [
        {
          "output_type": "execute_result",
          "data": {
            "text/plain": [
              "array([[1, 1, 1, 1],\n",
              "       [1, 1, 1, 1],\n",
              "       [1, 1, 1, 1],\n",
              "       [1, 1, 1, 1]])"
            ]
          },
          "metadata": {},
          "execution_count": 27
        }
      ]
    },
    {
      "cell_type": "code",
      "source": [
        "np.pad?"
      ],
      "metadata": {
        "id": "CWtDKjzv3Xku"
      },
      "execution_count": 15,
      "outputs": []
    },
    {
      "cell_type": "code",
      "source": [
        "arr = np.ones(shape=(4, 4), dtype='int')\n",
        "arr = np.pad(arr * 5,pad_width=1,constant_values=(0))#constant values -> wartosc do wypełnienia\n",
        "print(arr)"
      ],
      "metadata": {
        "colab": {
          "base_uri": "https://localhost:8080/"
        },
        "id": "TwPP4UVR3aFB",
        "outputId": "acfdf1b1-de65-44e3-b82d-c2554fe2b0cc"
      },
      "execution_count": 36,
      "outputs": [
        {
          "output_type": "stream",
          "name": "stdout",
          "text": [
            "[[0 0 0 0 0 0]\n",
            " [0 5 5 5 5 0]\n",
            " [0 5 5 5 5 0]\n",
            " [0 5 5 5 5 0]\n",
            " [0 5 5 5 5 0]\n",
            " [0 0 0 0 0 0]]\n"
          ]
        }
      ]
    },
    {
      "cell_type": "code",
      "source": [
        "arr = np.zeros(shape=(6, 6), dtype='int')\n",
        "arr[::2, ::2] = 2\n",
        "arr[1::2,::2] = 4\n",
        "arr"
      ],
      "metadata": {
        "colab": {
          "base_uri": "https://localhost:8080/"
        },
        "id": "klKTP9Jd4GtG",
        "outputId": "10e1fcbf-342b-4d6a-e800-76d735cebd44"
      },
      "execution_count": 83,
      "outputs": [
        {
          "output_type": "execute_result",
          "data": {
            "text/plain": [
              "array([[2, 0, 2, 0, 2, 0],\n",
              "       [4, 0, 4, 0, 4, 0],\n",
              "       [2, 0, 2, 0, 2, 0],\n",
              "       [4, 0, 4, 0, 4, 0],\n",
              "       [2, 0, 2, 0, 2, 0],\n",
              "       [4, 0, 4, 0, 4, 0]])"
            ]
          },
          "metadata": {},
          "execution_count": 83
        }
      ]
    },
    {
      "cell_type": "code",
      "source": [
        "arr = np.array(\n",
        "    [\n",
        "        [4.99, 3.49, 9.99],\n",
        "        [1.99, 9.99, 14.99],\n",
        "        [14.99, 2.39, 7.29],\n",
        "    ]\n",
        ")"
      ],
      "metadata": {
        "id": "4vJOF7cf6XE4"
      },
      "execution_count": 84,
      "outputs": []
    },
    {
      "cell_type": "code",
      "source": [
        "np.full_like?"
      ],
      "metadata": {
        "id": "nmE8ZLuQAtfU"
      },
      "execution_count": 87,
      "outputs": []
    },
    {
      "cell_type": "code",
      "source": [
        "arr = np.full_like(arr, 9.99)\n",
        "print(arr)"
      ],
      "metadata": {
        "colab": {
          "base_uri": "https://localhost:8080/"
        },
        "id": "-Gz8Ci0vANHQ",
        "outputId": "6bf9bff9-f000-4f17-ddb3-6c5cac4e8c73"
      },
      "execution_count": 88,
      "outputs": [
        {
          "output_type": "stream",
          "name": "stdout",
          "text": [
            "[[9.99 9.99 9.99]\n",
            " [9.99 9.99 9.99]\n",
            " [9.99 9.99 9.99]]\n"
          ]
        }
      ]
    },
    {
      "cell_type": "code",
      "source": [
        "np.tri?"
      ],
      "metadata": {
        "id": "K--q33MbBAcf"
      },
      "execution_count": 89,
      "outputs": []
    },
    {
      "cell_type": "code",
      "source": [
        "arr = np.ones(shape=(6,6))\n",
        "arr = np.tri(6,6,0)\n",
        "arr"
      ],
      "metadata": {
        "colab": {
          "base_uri": "https://localhost:8080/"
        },
        "id": "BRmVE1p6BBlM",
        "outputId": "f506d21a-9ff8-4830-94db-310f28a82fba"
      },
      "execution_count": 99,
      "outputs": [
        {
          "output_type": "execute_result",
          "data": {
            "text/plain": [
              "array([[1., 0., 0., 0., 0., 0.],\n",
              "       [1., 1., 0., 0., 0., 0.],\n",
              "       [1., 1., 1., 0., 0., 0.],\n",
              "       [1., 1., 1., 1., 0., 0.],\n",
              "       [1., 1., 1., 1., 1., 0.],\n",
              "       [1., 1., 1., 1., 1., 1.]])"
            ]
          },
          "metadata": {},
          "execution_count": 99
        }
      ]
    },
    {
      "cell_type": "code",
      "source": [
        "arr = np.array(\n",
        "    [\n",
        "        [False, True, True, False, True],\n",
        "        [False, False, True, True, True],\n",
        "    ]\n",
        ")"
      ],
      "metadata": {
        "id": "xQmdOwuUBMLi"
      },
      "execution_count": 100,
      "outputs": []
    },
    {
      "cell_type": "code",
      "source": [
        "arr = arr.astype(np.int8)\n",
        "print(arr)"
      ],
      "metadata": {
        "colab": {
          "base_uri": "https://localhost:8080/"
        },
        "id": "fpivtxBFELQd",
        "outputId": "9c4e2dd0-96d7-4182-b6ef-24eb7d3a01c2"
      },
      "execution_count": 104,
      "outputs": [
        {
          "output_type": "stream",
          "name": "stdout",
          "text": [
            "[[0 1 1 0 1]\n",
            " [0 0 1 1 1]]\n"
          ]
        }
      ]
    },
    {
      "cell_type": "code",
      "source": [
        "arr = np.random.rand(12)\n",
        "arr = arr.reshape(2,6)\n",
        "arr = arr.astype(\"int32\")\n",
        "print(arr)"
      ],
      "metadata": {
        "colab": {
          "base_uri": "https://localhost:8080/"
        },
        "id": "CZsFDFnIEO1Y",
        "outputId": "c5701c5c-83c6-40ba-ac2c-4617f955a90e"
      },
      "execution_count": 123,
      "outputs": [
        {
          "output_type": "stream",
          "name": "stdout",
          "text": [
            "[[0 0 0 0 0 0]\n",
            " [0 0 0 0 0 0]]\n"
          ]
        }
      ]
    },
    {
      "cell_type": "code",
      "source": [],
      "metadata": {
        "id": "vQqTASyuEzGl"
      },
      "execution_count": 122,
      "outputs": []
    }
  ]
}