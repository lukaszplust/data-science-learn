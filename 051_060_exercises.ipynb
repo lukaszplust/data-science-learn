{
  "nbformat": 4,
  "nbformat_minor": 0,
  "metadata": {
    "colab": {
      "provenance": [],
      "collapsed_sections": [],
      "include_colab_link": true
    },
    "kernelspec": {
      "name": "python3",
      "display_name": "Python 3"
    }
  },
  "cells": [
    {
      "cell_type": "markdown",
      "metadata": {
        "id": "view-in-github",
        "colab_type": "text"
      },
      "source": [
        "<a href=\"https://colab.research.google.com/github/lukaszplust/data-science-learn/blob/main/051_060_exercises.ipynb\" target=\"_parent\"><img src=\"https://colab.research.google.com/assets/colab-badge.svg\" alt=\"Open In Colab\"/></a>"
      ]
    },
    {
      "cell_type": "markdown",
      "metadata": {
        "id": "WLEgCW5F1hho"
      },
      "source": [
        "## Numpy\n",
        "\n",
        "### Spis treści:\n",
        "* [Import biblioteki](#0)\n",
        "* [Ćwiczenie 51](#1)\n",
        "* [Ćwiczenie 52](#2)\n",
        "* [Ćwiczenie 53](#3)\n",
        "* [Ćwiczenie 54](#4)\n",
        "* [Ćwiczenie 55](#5)\n",
        "* [Ćwiczenie 56](#6)\n",
        "* [Ćwiczenie 57](#7)\n",
        "* [Ćwiczenie 58](#8)\n",
        "* [Ćwiczenie 59](#9)\n",
        "* [Ćwiczenie 60](#10)"
      ]
    },
    {
      "cell_type": "markdown",
      "metadata": {
        "id": "zeLOLmTj1kBM"
      },
      "source": [
        "### <a name='0'></a>Import biblioteki"
      ]
    },
    {
      "cell_type": "code",
      "metadata": {
        "id": "HXMB7SMe1Wnz",
        "colab": {
          "base_uri": "https://localhost:8080/",
          "height": 35
        },
        "outputId": "43d4180b-b6b7-4f80-b447-3af99815bf02"
      },
      "source": [
        "import numpy as np\n",
        "\n",
        "np.random.seed(42)\n",
        "np.__version__"
      ],
      "execution_count": 5,
      "outputs": [
        {
          "output_type": "execute_result",
          "data": {
            "text/plain": [
              "'1.21.6'"
            ],
            "application/vnd.google.colaboratory.intrinsic+json": {
              "type": "string"
            }
          },
          "metadata": {},
          "execution_count": 5
        }
      ]
    },
    {
      "cell_type": "markdown",
      "metadata": {
        "id": "cyc70pMe1oCg"
      },
      "source": [
        "### <a name='1'></a> Ćwiczenie 51\n",
        "Podane są poniżej dwie tablice $A$ i $B$:\n",
        "\n",
        "\n",
        "```\n",
        "A = np.array([[3, 4, 5],\n",
        "              [8, 3, 1]])\n",
        "B = np.array([[0, 5, 2],\n",
        "              [4, 2, 1]])\n",
        "```\n",
        "* Połącz te tablice w następujący sposób:\n",
        "\n",
        "\n",
        "```\n",
        "array([[3, 4, 5],\n",
        "       [8, 3, 1],\n",
        "       [0, 5, 2],\n",
        "       [4, 2, 1]])\n",
        "```\n",
        "__Wskazówka:__ Wykorzystaj funkcję _np.concatenate()_.\n",
        "\n",
        "\n",
        "\n"
      ]
    },
    {
      "cell_type": "code",
      "metadata": {
        "id": "G06kZluT8eIh",
        "colab": {
          "base_uri": "https://localhost:8080/"
        },
        "outputId": "42fe6a9a-f379-49d0-bfb4-eb82a252f7a5"
      },
      "source": [
        "A = np.array([[3, 4, 5],\n",
        "              [8, 3, 1]])\n",
        "\n",
        "B = np.array([[0, 5, 2],\n",
        "              [4, 2, 1]])\n",
        "\n",
        "np.concatenate([A,B],axis=0)"
      ],
      "execution_count": 9,
      "outputs": [
        {
          "output_type": "execute_result",
          "data": {
            "text/plain": [
              "array([[3, 4, 5],\n",
              "       [8, 3, 1],\n",
              "       [0, 5, 2],\n",
              "       [4, 2, 1]])"
            ]
          },
          "metadata": {},
          "execution_count": 9
        }
      ]
    },
    {
      "cell_type": "markdown",
      "metadata": {
        "id": "ODw_gitA98Ul"
      },
      "source": [
        "* Połącz te tablice w następujący sposób:\n",
        "\n",
        "\n",
        "```\n",
        "array([[3, 4, 5, 0, 5, 2],\n",
        "       [8, 3, 1, 4, 2, 1]])\n",
        "```\n",
        "__Wskazówka:__ Wykorzystaj funkcję _np.concatenate()_."
      ]
    },
    {
      "cell_type": "code",
      "metadata": {
        "id": "1pmGjLj88tcf",
        "colab": {
          "base_uri": "https://localhost:8080/"
        },
        "outputId": "62a6f6a8-5092-4936-e372-7824e96e3f4e"
      },
      "source": [
        "np.concatenate([A,B],axis=1)"
      ],
      "execution_count": 10,
      "outputs": [
        {
          "output_type": "execute_result",
          "data": {
            "text/plain": [
              "array([[3, 4, 5, 0, 5, 2],\n",
              "       [8, 3, 1, 4, 2, 1]])"
            ]
          },
          "metadata": {},
          "execution_count": 10
        }
      ]
    },
    {
      "cell_type": "markdown",
      "metadata": {
        "id": "J9pY1rtr1sC0"
      },
      "source": [
        "### <a name='2'></a> Ćwiczenie 52\n",
        "Podana jest tablica zawierająca dane _data_ oraz tablica zawierająca docelową klasę dla danego wiersza _target_:\n",
        "\n",
        "```\n",
        "data = np.array([[4.3, 4.2],\n",
        "                 [3.1, 3.6]])\n",
        "target = np.array([[0],\n",
        "                   [1]])\n",
        "```\n",
        "\n"
      ]
    },
    {
      "cell_type": "markdown",
      "metadata": {
        "id": "8cAKF7ok-RjX"
      },
      "source": [
        "Połącz te tablice w jedną tak jak pokazano poniżej:\n",
        "\n",
        "\n",
        "```\n",
        "array([[4.3, 4.2, 0. ],\n",
        "       [3.1, 3.6, 1. ]])\n",
        "```\n",
        "\n"
      ]
    },
    {
      "cell_type": "code",
      "metadata": {
        "id": "4lc68Wfr8z3u",
        "colab": {
          "base_uri": "https://localhost:8080/"
        },
        "outputId": "a1952a83-8bfe-4f68-8cee-e9c64fad29c6"
      },
      "source": [
        "data = np.array([[4.3, 4.2],\n",
        "                 [3.1, 3.6]])\n",
        "target = np.array([[0],\n",
        "                   [1]])\n",
        "\n",
        "np.concatenate([data,target],axis=1)"
      ],
      "execution_count": 11,
      "outputs": [
        {
          "output_type": "execute_result",
          "data": {
            "text/plain": [
              "array([[4.3, 4.2, 0. ],\n",
              "       [3.1, 3.6, 1. ]])"
            ]
          },
          "metadata": {},
          "execution_count": 11
        }
      ]
    },
    {
      "cell_type": "markdown",
      "metadata": {
        "id": "XQLYT2m11wVG"
      },
      "source": [
        "### <a name='3'></a> Ćwiczenie 53\n",
        "Podane są trzy poniższe jednowymiarowe tablice:  \n",
        "\n",
        "\n",
        "```\n",
        "feature1 = np.array([1.6, 0.9, 2.2])\n",
        "feature2 = np.array([0.4, 1.3, 3.2])\n",
        "feature3 = np.array([1.4, 0.3, 1.2])\n",
        "```\n",
        "Przekształć każdą z tych tablic w kolumnę i sklej w jedną dużą tablicę.\n",
        "\n",
        "__Oczekiwany wynik:__\n",
        "\n",
        "\n",
        "```\n",
        "array([[1.6, 0.4, 1.4],\n",
        "       [0.9, 1.3, 0.3],\n",
        "       [2.2, 3.2, 1.2]])\n",
        "```\n",
        "\n",
        "__Wskazówka:__ Wykorzystaj funkcję _np.column_stack()_.\n",
        "\n"
      ]
    },
    {
      "cell_type": "code",
      "metadata": {
        "id": "xfPf_vq7-jBP",
        "colab": {
          "base_uri": "https://localhost:8080/"
        },
        "outputId": "22e0b82b-43fd-461b-e66e-b06c437fd1c3"
      },
      "source": [
        "feature1 = np.array([1.6, 0.9, 2.2])\n",
        "feature2 = np.array([0.4, 1.3, 3.2])\n",
        "feature3 = np.array([1.4, 0.3, 1.2])\n",
        "\n",
        "np.column_stack([feature1,feature2,feature3])"
      ],
      "execution_count": 12,
      "outputs": [
        {
          "output_type": "execute_result",
          "data": {
            "text/plain": [
              "array([[1.6, 0.4, 1.4],\n",
              "       [0.9, 1.3, 0.3],\n",
              "       [2.2, 3.2, 1.2]])"
            ]
          },
          "metadata": {},
          "execution_count": 12
        }
      ]
    },
    {
      "cell_type": "markdown",
      "metadata": {
        "id": "4xTKSUzg10MK"
      },
      "source": [
        "### <a name='4'></a> Ćwiczenie 54\n",
        "Podana jest poniższa dwuwymiarowa tablica:\n",
        "\n",
        "```\n",
        "A = np.random.randint(low=0, high=7, size=(5, 8))\n",
        "A[:, :2] = 0\n",
        "A[:, -2:] = 1\n",
        "A\n",
        "```\n",
        "```\n",
        "array([[0, 0, 4, 6, 2, 4, 1, 1],\n",
        "       [0, 0, 6, 2, 2, 4, 1, 1],\n",
        "       [0, 0, 1, 3, 5, 5, 1, 1],\n",
        "       [0, 0, 3, 1, 5, 4, 1, 1],\n",
        "       [0, 0, 2, 6, 1, 3, 1, 1]])\n",
        "```\n",
        "\n",
        "Podziel tablicę na 3 części tak aby pierwsze dwie kolumny stanowiły pierwszą tablicę $A1$, cztery kolejne drugą tablicę $A2$ oraz dwie ostatnie trzecią tablicę $A3$.\n",
        "\n",
        "__Wskazówka:__ Wykorzystaj funkcję _np.split()_."
      ]
    },
    {
      "cell_type": "code",
      "metadata": {
        "id": "U5MFrLUHBsEf",
        "colab": {
          "base_uri": "https://localhost:8080/"
        },
        "outputId": "4f7fe963-f0ed-403c-ae91-4a8cb28eede1"
      },
      "source": [
        "#ehh znowu ogarnąć to wycinanie :))!!!!!\n",
        "A = np.random.randint(low=0, high=7, size=(5, 8))\n",
        "A[:, :2] = 0\n",
        "A[:, -2:] = 1\n",
        "print(A)\n",
        "print('--')\n",
        "A1,A2,A3 = np.split(A,[2,6],axis=1) # kolumna 0 i 1 to pierwsza, kolumna 2,3,4,5 to druga, kolumna 5 i 6 to trzecia\n",
        "print(A1)\n",
        "print(A2)\n",
        "print(A3)\n"
      ],
      "execution_count": 44,
      "outputs": [
        {
          "output_type": "stream",
          "name": "stdout",
          "text": [
            "[[0 0 4 5 5 6 1 1]\n",
            " [0 0 5 5 6 6 1 1]\n",
            " [0 0 6 4 3 6 1 1]\n",
            " [0 0 2 3 6 5 1 1]\n",
            " [0 0 2 5 0 1 1 1]]\n",
            "--\n",
            "[[0 0]\n",
            " [0 0]\n",
            " [0 0]\n",
            " [0 0]\n",
            " [0 0]]\n",
            "[[4 5 5 6]\n",
            " [5 5 6 6]\n",
            " [6 4 3 6]\n",
            " [2 3 6 5]\n",
            " [2 5 0 1]]\n",
            "[[1 1]\n",
            " [1 1]\n",
            " [1 1]\n",
            " [1 1]\n",
            " [1 1]]\n"
          ]
        }
      ]
    },
    {
      "cell_type": "markdown",
      "metadata": {
        "id": "o3HKIKlP15Ro"
      },
      "source": [
        "### <a name='5'></a> Ćwiczenie 55\n",
        "Podana jest poniższa tablica $A$:\n",
        "\n",
        "```\n",
        "A = np.random.randint(low=0, high=2, size=(10, 6))\n",
        "```\n",
        "Wyznacz łączną liczbę elementów niezerowych dla tej tablicy.\n",
        "\n",
        "__Wskazówka:__ Wykorzystaj funkcję _np.count_nonzero()_.\n"
      ]
    },
    {
      "cell_type": "code",
      "metadata": {
        "id": "j5E2nOFyDy1b",
        "colab": {
          "base_uri": "https://localhost:8080/"
        },
        "outputId": "89a7d64a-15ad-43f6-e224-a7e9bd8234e0"
      },
      "source": [
        "A = np.random.randint(low=0, high=2, size=(10, 6))\n",
        "print(np.count_nonzero(A))\n",
        "A"
      ],
      "execution_count": 55,
      "outputs": [
        {
          "output_type": "stream",
          "name": "stdout",
          "text": [
            "29\n"
          ]
        },
        {
          "output_type": "execute_result",
          "data": {
            "text/plain": [
              "array([[1, 0, 0, 0, 0, 0],\n",
              "       [1, 1, 1, 1, 0, 0],\n",
              "       [0, 0, 1, 0, 0, 1],\n",
              "       [1, 1, 1, 0, 0, 1],\n",
              "       [0, 0, 0, 1, 0, 1],\n",
              "       [0, 0, 0, 1, 0, 1],\n",
              "       [1, 1, 0, 0, 0, 0],\n",
              "       [1, 1, 1, 0, 1, 0],\n",
              "       [1, 0, 0, 1, 1, 1],\n",
              "       [1, 0, 1, 1, 1, 0]])"
            ]
          },
          "metadata": {},
          "execution_count": 55
        }
      ]
    },
    {
      "cell_type": "markdown",
      "metadata": {
        "id": "wJde65uYhJ2f"
      },
      "source": [
        "Wyznacz łączną liczbę elementów niezerowych dla każdego wiersza tej tablicy.\n",
        "\n",
        "__Wskazówka:__ Wykorzystaj funkcję _np.count_nonzero()_."
      ]
    },
    {
      "cell_type": "code",
      "metadata": {
        "id": "BWG-icQuEEPS",
        "colab": {
          "base_uri": "https://localhost:8080/"
        },
        "outputId": "0a4884ec-f075-4249-ccfe-da7eaf5def5b"
      },
      "source": [
        "np.count_nonzero(A,axis=1)"
      ],
      "execution_count": 56,
      "outputs": [
        {
          "output_type": "execute_result",
          "data": {
            "text/plain": [
              "array([1, 4, 2, 4, 2, 2, 2, 4, 4, 4])"
            ]
          },
          "metadata": {},
          "execution_count": 56
        }
      ]
    },
    {
      "cell_type": "markdown",
      "metadata": {
        "id": "PunXd_Ey16so"
      },
      "source": [
        "### <a name='6'></a> Ćwiczenie 56\n",
        "Poniżej podana jest przykładowa tablica $A$:\n",
        "\n",
        "```\n",
        "A = np.random.randn(10, 4)\n",
        "```\n",
        "\n",
        "```\n",
        "array([[-0.53441645, -1.49505387, -0.78925833,  0.74371128],\n",
        "       [-0.21216142, -0.42686879,  0.50144833,  1.15818665],\n",
        "       [ 0.25711687,  0.3145129 ,  1.37186213,  0.17555329],\n",
        "       [-0.30928855,  0.6731255 , -0.25663018, -0.36782572],\n",
        "       [ 1.27373362, -0.29195267, -2.65517605,  0.34551794],\n",
        "       [-0.39551645, -0.28913686,  0.45293633, -0.16606091],\n",
        "       [ 0.21493883, -2.02231493, -0.94305681,  1.40395874],\n",
        "       [-0.0185508 , -1.67350462, -1.07253183, -0.99258618],\n",
        "       [ 0.10234768, -0.43260928, -0.6591823 ,  0.0039373 ],\n",
        "       [ 0.4777541 , -0.25902864, -0.57470921, -0.42149822]])\n",
        "```\n",
        "\n",
        "\n",
        "Ustaw odopowiednią opcję biblioteki numpy pozwalającą drukować tablice z określoną precyzją. Ustaw jej wartość na 4 i wydrukuj tablicę $A$.\n",
        "\n"
      ]
    },
    {
      "cell_type": "code",
      "source": [
        "A = np.random.randn(10, 4)\n",
        "A"
      ],
      "metadata": {
        "id": "qu6xL_TzVmzu",
        "outputId": "577ee9e6-d144-4f1f-8aa5-e4fcea2c69b3",
        "colab": {
          "base_uri": "https://localhost:8080/"
        }
      },
      "execution_count": 71,
      "outputs": [
        {
          "output_type": "execute_result",
          "data": {
            "text/plain": [
              "array([[-0.639 , -1.3231,  1.642 ,  1.0098],\n",
              "       [-0.6882,  2.2524,  0.9818, -0.3248],\n",
              "       [-2.4994,  2.2909, -1.3896, -1.6454],\n",
              "       [ 1.0226,  2.4398,  1.3843,  0.5639],\n",
              "       [ 0.5948,  0.8534,  0.7589,  0.2812],\n",
              "       [ 0.1042, -0.0626, -0.754 , -0.2807],\n",
              "       [-1.693 , -0.0983, -0.9886, -1.1036],\n",
              "       [ 0.1799,  1.392 ,  0.9183, -1.5705],\n",
              "       [-0.9896,  0.9408, -0.9825, -0.2246],\n",
              "       [ 0.5501, -0.9683,  0.1054, -1.334 ]])"
            ]
          },
          "metadata": {},
          "execution_count": 71
        }
      ]
    },
    {
      "cell_type": "code",
      "metadata": {
        "id": "aL6C9MYSYkaL",
        "colab": {
          "base_uri": "https://localhost:8080/"
        },
        "outputId": "c2839f22-cf90-43f2-85cb-f0fcb7120769"
      },
      "source": [
        "np.set_printoptions(precision=2)\n",
        "print(f' z precyzją do 2 miejsc: {A}')"
      ],
      "execution_count": 74,
      "outputs": [
        {
          "output_type": "stream",
          "name": "stdout",
          "text": [
            " z precyzją do 2 miejsc: [[-0.64 -1.32  1.64  1.01]\n",
            " [-0.69  2.25  0.98 -0.32]\n",
            " [-2.5   2.29 -1.39 -1.65]\n",
            " [ 1.02  2.44  1.38  0.56]\n",
            " [ 0.59  0.85  0.76  0.28]\n",
            " [ 0.1  -0.06 -0.75 -0.28]\n",
            " [-1.69 -0.1  -0.99 -1.1 ]\n",
            " [ 0.18  1.39  0.92 -1.57]\n",
            " [-0.99  0.94 -0.98 -0.22]\n",
            " [ 0.55 -0.97  0.11 -1.33]]\n"
          ]
        }
      ]
    },
    {
      "cell_type": "markdown",
      "metadata": {
        "id": "hOhqDRz618Tx"
      },
      "source": [
        "### <a name='7'></a> Ćwiczenie 57\n",
        "Podana jest poniższa tablica numpy $A$:\n",
        "\n",
        "```\n",
        "A = np.array([1.2e-6, 1.7e-7])\n",
        "```\n",
        "\n",
        "Ustaw wartość precyzji na 8. Następnie ustaw odopowiednią opcję biblioteki numpy pozwalającą stłumić notację wykładniczą. Wydrukuj tablicę $A$.\n",
        "\n",
        "__Oczekiwany wynik:__\n",
        "\n",
        "\n",
        "```\n",
        "array([0.0000012 , 0.00000017])\n",
        "```\n",
        "\n",
        "\n",
        "\n"
      ]
    },
    {
      "cell_type": "code",
      "metadata": {
        "id": "BUr3XXiWdUWi",
        "colab": {
          "base_uri": "https://localhost:8080/"
        },
        "outputId": "3ad4e5e9-ff4d-4e4d-9744-97f272818214"
      },
      "source": [
        "A = np.array([1.2e-6, 1.7e-7])\n",
        "A"
      ],
      "execution_count": 75,
      "outputs": [
        {
          "output_type": "execute_result",
          "data": {
            "text/plain": [
              "array([1.2e-06, 1.7e-07])"
            ]
          },
          "metadata": {},
          "execution_count": 75
        }
      ]
    },
    {
      "cell_type": "code",
      "source": [
        "np.set_printoptions(precision=8, suppress=True)\n",
        "A"
      ],
      "metadata": {
        "id": "-HIWEzJpWJp2",
        "outputId": "547fbad8-0564-49de-c877-fcc02ac24f72",
        "colab": {
          "base_uri": "https://localhost:8080/"
        }
      },
      "execution_count": 77,
      "outputs": [
        {
          "output_type": "execute_result",
          "data": {
            "text/plain": [
              "array([0.0000012 , 0.00000017])"
            ]
          },
          "metadata": {},
          "execution_count": 77
        }
      ]
    },
    {
      "cell_type": "markdown",
      "metadata": {
        "id": "TXUd_4631-gw"
      },
      "source": [
        "### <a name='8'></a> Ćwiczenie 58\n",
        "Podana jest poniższa tablica numpy $A$:\n",
        "\n",
        "```\n",
        "A = np.random.randn(8, 4)\n",
        "```\n",
        "Usuń trzecią kolumnę z tablicy $A$.\n",
        "\n",
        "__Oczekiwany wynik:__\n",
        "\n",
        "\n",
        "```\n",
        "array([[-0.55692881, -0.66003196,  0.70856031],\n",
        "       [ 0.22378737, -0.19796576, -0.16889332],\n",
        "       [ 0.26062786,  0.29865445, -0.92259267],\n",
        "       [-2.40317659,  1.79961876, -1.96495796],\n",
        "       [ 0.13051561, -1.7085185 ,  0.54885043],\n",
        "       [ 1.77268727,  0.38751181, -0.05141955],\n",
        "       [-1.80858596, -0.45075211,  0.15332866],\n",
        "       [ 1.94218961, -1.93679529, -1.83350954]])\n",
        "```\n",
        "__Wskazówka:__ Wykorzystaj funkcję _np.delete()_.\n",
        "\n",
        "\n"
      ]
    },
    {
      "cell_type": "code",
      "metadata": {
        "id": "o5PxnILogU6z",
        "colab": {
          "base_uri": "https://localhost:8080/"
        },
        "outputId": "49dd41ee-d3b7-4d6b-aea9-01abb96dde5b"
      },
      "source": [
        "A = np.random.randn(8, 4)\n",
        "A\n"
      ],
      "execution_count": 79,
      "outputs": [
        {
          "output_type": "execute_result",
          "data": {
            "text/plain": [
              "array([[-0.18528766, -0.1298207 ,  0.04381147, -0.147002  ],\n",
              "       [ 0.96387912,  2.210523  , -0.55749179, -1.36980298],\n",
              "       [-0.08828205,  2.57970934, -0.80367457,  1.63911681],\n",
              "       [ 1.67770081, -0.55358824,  0.56898308,  1.62839662],\n",
              "       [-0.37912774, -0.20358036, -0.58168091, -1.01475673],\n",
              "       [-0.64927755, -1.22394027,  0.03408347, -0.76997323],\n",
              "       [ 0.23378591, -1.55589565,  0.33088023,  0.83352896],\n",
              "       [-1.99373564,  0.37405657,  1.22766899, -1.20964102]])"
            ]
          },
          "metadata": {},
          "execution_count": 79
        }
      ]
    },
    {
      "cell_type": "code",
      "source": [
        "np.delete(A,2,axis=1)"
      ],
      "metadata": {
        "id": "661AV-tHW_qQ",
        "outputId": "9c7980fc-f5d2-49cb-d2e1-d90375d02306",
        "colab": {
          "base_uri": "https://localhost:8080/"
        }
      },
      "execution_count": 81,
      "outputs": [
        {
          "output_type": "execute_result",
          "data": {
            "text/plain": [
              "array([[-0.18528766, -0.1298207 , -0.147002  ],\n",
              "       [ 0.96387912,  2.210523  , -1.36980298],\n",
              "       [-0.08828205,  2.57970934,  1.63911681],\n",
              "       [ 1.67770081, -0.55358824,  1.62839662],\n",
              "       [-0.37912774, -0.20358036, -1.01475673],\n",
              "       [-0.64927755, -1.22394027, -0.76997323],\n",
              "       [ 0.23378591, -1.55589565,  0.83352896],\n",
              "       [-1.99373564,  0.37405657, -1.20964102]])"
            ]
          },
          "metadata": {},
          "execution_count": 81
        }
      ]
    },
    {
      "cell_type": "markdown",
      "metadata": {
        "id": "tgI6xEn-2AQo"
      },
      "source": [
        "### <a name='9'></a> Ćwiczenie 59\n",
        "Podana jest tablica jednowymiarowa $v$ (wektor):\n",
        "\n",
        "```\n",
        "v = np.array([3, 4, -2])\n",
        "```\n",
        "Policz normę wektora $v$.\n"
      ]
    },
    {
      "cell_type": "code",
      "metadata": {
        "id": "TYPzAZCwi-Ky",
        "colab": {
          "base_uri": "https://localhost:8080/"
        },
        "outputId": "8b9c0a8b-e113-4a76-e1d0-93b7fed409ea"
      },
      "source": [
        "v = np.array([3, 4, -2])\n",
        "np.linalg.norm(v)"
      ],
      "execution_count": 86,
      "outputs": [
        {
          "output_type": "execute_result",
          "data": {
            "text/plain": [
              "5.385164807134504"
            ]
          },
          "metadata": {},
          "execution_count": 86
        }
      ]
    },
    {
      "cell_type": "markdown",
      "metadata": {
        "id": "wxhpf-uq2B1I"
      },
      "source": [
        "### <a name='10'></a> Ćwiczenie 60\n",
        "Poniżej podana jest przykładowa tablica $A$:\n",
        "\n",
        "\n",
        "```\n",
        "A = np.random.randint(10, size=(100, 30))\n",
        "```\n",
        "Ustaw odopowiednią opcję biblioteki numpy pozwalającą drukować 10 skrajnych elementów. Wydrukuj tablicę $A$.\n"
      ]
    },
    {
      "cell_type": "code",
      "metadata": {
        "id": "liJX2nIBk-gO",
        "colab": {
          "base_uri": "https://localhost:8080/"
        },
        "outputId": "53abbabe-bf14-47ee-d301-9433191119ac"
      },
      "source": [
        "A = np.random.randint(10, size=(100, 30))\n",
        "A\n"
      ],
      "execution_count": 89,
      "outputs": [
        {
          "output_type": "execute_result",
          "data": {
            "text/plain": [
              "array([[6, 4, 5, ..., 7, 0, 6],\n",
              "       [4, 3, 6, ..., 5, 3, 5],\n",
              "       [8, 9, 9, ..., 3, 6, 1],\n",
              "       ...,\n",
              "       [0, 3, 8, ..., 2, 3, 5],\n",
              "       [6, 3, 3, ..., 0, 3, 9],\n",
              "       [4, 8, 6, ..., 0, 9, 7]])"
            ]
          },
          "metadata": {},
          "execution_count": 89
        }
      ]
    },
    {
      "cell_type": "code",
      "source": [
        "np.set_printoptions(edgeitems=10) # domyslnie jest ich tu 3 jak widac u góry\n",
        "A"
      ],
      "metadata": {
        "id": "cpfApgi5YS9O",
        "outputId": "5d778ba6-a516-4f23-b9dd-695cf4f3ef85",
        "colab": {
          "base_uri": "https://localhost:8080/"
        }
      },
      "execution_count": 92,
      "outputs": [
        {
          "output_type": "execute_result",
          "data": {
            "text/plain": [
              "array([[6, 4, 5, 9, 3, 1, 9, 8, 9, 6, ..., 9, 1, 1, 7, 0, 6, 4, 7, 0, 6],\n",
              "       [4, 3, 6, 9, 1, 0, 0, 0, 4, 9, ..., 2, 9, 0, 5, 1, 0, 1, 5, 3, 5],\n",
              "       [8, 9, 9, 7, 0, 7, 8, 5, 9, 4, ..., 7, 8, 9, 8, 9, 8, 1, 3, 6, 1],\n",
              "       [0, 2, 3, 7, 5, 1, 8, 1, 4, 3, ..., 7, 5, 3, 3, 5, 3, 7, 8, 0, 3],\n",
              "       [3, 1, 5, 2, 6, 4, 3, 4, 7, 2, ..., 3, 6, 7, 0, 4, 2, 0, 2, 5, 6],\n",
              "       [7, 3, 2, 4, 8, 5, 8, 5, 1, 4, ..., 9, 2, 3, 2, 0, 9, 4, 0, 0, 1],\n",
              "       [3, 5, 7, 2, 0, 2, 2, 4, 3, 3, ..., 4, 5, 2, 7, 3, 7, 9, 9, 2, 9],\n",
              "       [6, 8, 3, 7, 2, 6, 2, 6, 9, 9, ..., 7, 7, 3, 5, 7, 6, 6, 3, 8, 9],\n",
              "       [5, 2, 4, 4, 4, 7, 8, 8, 5, 5, ..., 6, 1, 8, 9, 8, 5, 2, 0, 3, 2],\n",
              "       [0, 2, 3, 7, 8, 2, 5, 9, 4, 5, ..., 0, 8, 9, 9, 8, 6, 1, 5, 3, 0],\n",
              "       ...,\n",
              "       [7, 6, 8, 4, 9, 2, 5, 4, 3, 1, ..., 9, 1, 0, 7, 2, 0, 0, 1, 5, 5],\n",
              "       [2, 3, 1, 1, 6, 0, 6, 0, 5, 2, ..., 5, 5, 7, 0, 1, 8, 7, 6, 6, 4],\n",
              "       [1, 5, 9, 2, 3, 9, 1, 1, 7, 7, ..., 7, 6, 9, 8, 4, 1, 6, 7, 6, 6],\n",
              "       [4, 1, 5, 3, 9, 1, 8, 6, 5, 4, ..., 6, 1, 9, 2, 9, 8, 2, 1, 8, 9],\n",
              "       [8, 3, 8, 2, 6, 6, 7, 9, 3, 2, ..., 1, 5, 5, 7, 1, 8, 1, 0, 9, 1],\n",
              "       [6, 7, 4, 5, 0, 5, 7, 2, 0, 3, ..., 6, 2, 1, 6, 4, 5, 3, 1, 8, 2],\n",
              "       [6, 7, 1, 5, 7, 6, 2, 0, 5, 7, ..., 0, 4, 9, 4, 4, 9, 5, 7, 2, 8],\n",
              "       [0, 3, 8, 7, 9, 8, 0, 8, 2, 9, ..., 7, 7, 0, 7, 5, 3, 7, 2, 3, 5],\n",
              "       [6, 3, 3, 6, 5, 7, 0, 9, 6, 6, ..., 3, 8, 7, 0, 1, 1, 7, 0, 3, 9],\n",
              "       [4, 8, 6, 7, 8, 6, 4, 4, 9, 5, ..., 6, 1, 5, 7, 0, 3, 0, 0, 9, 7]])"
            ]
          },
          "metadata": {},
          "execution_count": 92
        }
      ]
    },
    {
      "cell_type": "code",
      "source": [],
      "metadata": {
        "id": "6iI2yJ4TYkFE"
      },
      "execution_count": null,
      "outputs": []
    }
  ]
}